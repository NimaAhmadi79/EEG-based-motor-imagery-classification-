{
 "cells": [
  {
   "cell_type": "code",
   "execution_count": 15,
   "metadata": {},
   "outputs": [],
   "source": [
    "import tensorflow as tf\n",
    "import os\n",
    "import keras\n",
    "import numpy as np\n",
    "import easygdf\n",
    "import mne\n",
    "import json\n",
    "import pandas as pd\n",
    "from scipy.interpolate import interp1d\n"
   ]
  },
  {
   "attachments": {},
   "cell_type": "markdown",
   "metadata": {},
   "source": [
    "Save data from gdf file to csv"
   ]
  },
  {
   "cell_type": "code",
   "execution_count": 2,
   "metadata": {},
   "outputs": [],
   "source": [
    "def save_data_in_csv():\n",
    "    filenames = [\"A01T.gdf\", \"A01E.gdf\", \"A02T.gdf\", \"A02E.gdf\",\"A03T.gdf\",\"A03E.gdf\",\"A04T.gdf\",\"A04E.gdf\",\"A05T.gdf\",\"A05E.gdf\",\"A06T.gdf\",\"A06E.gdf\",\"A07T.gdf\",\"A07E.gdf\",\"A08T.gdf\",\"A08E.gdf\",\"A09T.gdf\",\"A09E.gdf\"]\n",
    "    labels = [\"A01T\", \"A01E\", \"A02T\", \"A02E\",\"A03T\",\"A03E\",\"A04T\",\"A04E\",\"A05T\",\"A05E\",\"A06T\",\"A06E\",\"A07T\",\"A07E\",\"A08T\",\"A08E\",\"A09T\",\"A09E\"]\n",
    "\n",
    "    # Iterate over the filenames and labels\n",
    "    for filename, label in zip(filenames, labels):\n",
    "        # Read the raw data\n",
    "        filename='../datasets/BCICIV_2a_gdf/'+filename\n",
    "        raw = mne.io.read_raw_gdf(filename)\n",
    "        \n",
    "        # Convert to DataFrame\n",
    "        df = raw.to_data_frame()\n",
    "        \n",
    "        # Save to CSV\n",
    "        df.to_csv('excel/'+label + '.csv', index=False)"
   ]
  },
  {
   "attachments": {},
   "cell_type": "markdown",
   "metadata": {},
   "source": [
    "See all information in files"
   ]
  },
  {
   "cell_type": "code",
   "execution_count": 3,
   "metadata": {},
   "outputs": [],
   "source": [
    "def get_all_info():\n",
    "    filename = '../datasets/BCICIV_2a_gdf/A02T.gdf'\n",
    "    raw = mne.io.read_raw_gdf(filename)\n",
    "\n",
    "    # Print basic information about the dataset\n",
    "    print(raw.info)\n",
    "\n",
    "    # Print channel names\n",
    "    print(raw.ch_names)\n",
    "\n",
    "    # Print data shape\n",
    "    print(raw.get_data().shape)\n",
    "\n",
    "    # Print sampling frequency\n",
    "    print(raw.info['sfreq'])\n",
    "\n",
    "    # Print events\n",
    "    events, event_id = mne.events_from_annotations(raw)\n",
    "    print(events)\n",
    "\n",
    "    # Print event IDs\n",
    "    print(event_id)"
   ]
  },
  {
   "attachments": {},
   "cell_type": "markdown",
   "metadata": {},
   "source": [
    "Get events and positions from gdf files\n"
   ]
  },
  {
   "cell_type": "code",
   "execution_count": 4,
   "metadata": {},
   "outputs": [],
   "source": [
    "def get_event_position():\n",
    "\n",
    "    filenames = [\"A01T.gdf\", \"A02T.gdf\",\"A03T.gdf\",\"A04T.gdf\", \"A01E.gdf\", \"A02E.gdf\",\"A03E.gdf\",\"A04E.gdf\",\"A05T.gdf\",\"A05E.gdf\",\"A06T.gdf\",\"A06E.gdf\",\"A07T.gdf\",\"A07E.gdf\",\"A08T.gdf\",\"A08E.gdf\",\"A09T.gdf\",\"A09E.gdf\"]\n",
    "    labels = [\"A01T\", \"A02T\",\"A03T\",\"A04T\", \"A01E\", \"A02E\",\"A03E\",\"A04E\",\"A05T\",\"A05E\",\"A06T\",\"A06E\",\"A07T\",\"A07E\",\"A08T\",\"A08E\",\"A09T\",\"A09E\"]\n",
    "\n",
    "\n",
    "    events_with_labels_arrays = {}\n",
    "\n",
    "    for filename, label in zip(filenames, labels):\n",
    "\n",
    "        filename='../datasets/BCICIV_2a_gdf/'+filename\n",
    "        raw = mne.io.read_raw_gdf(filename)\n",
    "\n",
    "        # Access event information from the raw object\n",
    "        events, event_id = mne.events_from_annotations(raw)\n",
    "\n",
    "        #the list have the dictionary that map each events' id  to events' labels\n",
    "        events_id_labels = list(event_id.keys())\n",
    "\n",
    "        #create array for gather togther events' type and positions\n",
    "        temp= np.zeros_like(events)\n",
    "\n",
    "\n",
    "        for i in range(len(events)):\n",
    "            temp[i,0]=events[i,0]\n",
    "            id=events[i,2]\n",
    "            temp[i,1]=events_id_labels[id-1] # be in dalil ke dar list event ha ma id 10 drim vali araye events_id_labels k az tarigh key dastresi peyda krdim yedone adadash paiin tare\n",
    "\n",
    "        events_with_labels_arrays[label] = temp\n",
    "\n",
    "    \n",
    "    # Get the sample indices of the events\n",
    "    #event_positions_samples = events[:, 0]\n",
    "\n",
    "    # Get the corresponding time points from raw\n",
    "    #event_positions_times = raw.times[event_positions_samples]    \n",
    "\n",
    "    return events_with_labels_arrays\n"
   ]
  },
  {
   "attachments": {},
   "cell_type": "markdown",
   "metadata": {},
   "source": [
    "Save data in array"
   ]
  },
  {
   "cell_type": "code",
   "execution_count": 6,
   "metadata": {},
   "outputs": [],
   "source": [
    "def save_data_in_array():\n",
    "\n",
    "    filenames = [\"A01T.gdf\",\"A02T.gdf\",\"A03T.gdf\",\"A04T.gdf\",\"A01E.gdf\", \"A02E.gdf\",\"A03E.gdf\",\"A04E.gdf\",\"A05T.gdf\",\"A05E.gdf\",\"A06T.gdf\",\"A06E.gdf\",\"A07T.gdf\",\"A07E.gdf\",\"A08T.gdf\",\"A08E.gdf\",\"A09T.gdf\",\"A09E.gdf\"]\n",
    "    labels = [\"A01T\", \"A02T\",\"A03T\",\"A04T\", \"A01E\", \"A02E\",\"A03E\",\"A04E\",\"A05T\",\"A05E\",\"A06T\",\"A06E\",\"A07T\",\"A07E\",\"A08T\",\"A08E\",\"A09T\",\"A09E\"]\n",
    "\n",
    "\n",
    "    # Create a dictionary to store data arrays\n",
    "    data_arrays = {}\n",
    "\n",
    "\n",
    "    # Iterate over the filenames and labels\n",
    "    for filename, label in zip(filenames, labels):\n",
    "        # Read the raw data\n",
    "        filename='../datasets/BCICIV_2a_gdf/'+filename\n",
    "        raw = mne.io.read_raw_gdf(filename)\n",
    "        \n",
    "        # Convert to DataFrame\n",
    "        df = raw.to_data_frame()\n",
    "        \n",
    "        # Store data array in the dictionary\n",
    "        data_arrays[label] = df.values  # Store the numpy array representation of the DataFrame\n",
    "\n",
    "    # # Access data array for a specific label\n",
    "    # example_label = \"A01T\"\n",
    "    # example_data_array = data_arrays[example_label]    \n",
    "\n",
    "    return data_arrays\n",
    "\n",
    "    "
   ]
  },
  {
   "attachments": {},
   "cell_type": "markdown",
   "metadata": {},
   "source": [
    "Create data array for feeding "
   ]
  },
  {
   "cell_type": "code",
   "execution_count": 7,
   "metadata": {},
   "outputs": [],
   "source": [
    "\n",
    "def combine_data_labels(data_arrays,events_with_labels_arrays):\n",
    "    labels = [\"A01T\",\"A02T\", \"A03T\",\"A04T\",\"A05T\",\"A06T\",\"A07T\",\"A08T\",\"A09T\"]\n",
    "\n",
    "    combined=[]\n",
    "\n",
    "    for label in labels:\n",
    "\n",
    "        temp_data=data_arrays[label]\n",
    "        temp_events=events_with_labels_arrays[label]\n",
    "        for i in range(len(temp_events)):\n",
    "        \n",
    "            if temp_events[i,1]==769 or temp_events[i,1]==770 or temp_events[i,1]==771 or temp_events[i,1]==772 :\n",
    "\n",
    "                ev=temp_events[i,1]\n",
    "                position=temp_events[i,0]\n",
    "                # nth_sample=[]\n",
    "                # for j in range(position, position+1000):\n",
    "                #     if j==position+999:\n",
    "                #         for k in range(1,23):\n",
    "                #             nth_sample.append(temp_data[j,k])\n",
    "\n",
    "                #         nth_sample.append(ev)    \n",
    "                #         break\n",
    "                #     for k in range(1,23):\n",
    "                #         nth_sample.append(temp_data[j,k])\n",
    "                sample=temp_data[position:position+1000,1:23]\n",
    "\n",
    "                combined.append((sample,ev))\n",
    "\n",
    "    return combined          \n"
   ]
  },
  {
   "attachments": {},
   "cell_type": "markdown",
   "metadata": {},
   "source": [
    "Interpolation"
   ]
  },
  {
   "cell_type": "code",
   "execution_count": 14,
   "metadata": {},
   "outputs": [],
   "source": [
    "def interpolation(X):\n",
    "\n",
    "    # Create an empty array to store the interpolated data\n",
    "    final_interpolated_data = np.zeros((X.shape[0], 1050, X.shape[2]))\n",
    "\n",
    "    # Perform interpolation for each sample separately\n",
    "    for sample_idx in range(X.shape[0]):\n",
    "        # Get the EEG data for the current sample\n",
    "        sample_data = X[sample_idx, :, :]\n",
    "\n",
    "        # Create an empty array to store the interpolated sample data\n",
    "        interpolated_sample_data = np.zeros((1050, X.shape[2]))\n",
    "\n",
    "        # Perform interpolation for each channel separately\n",
    "        for channel in range(X.shape[2]):\n",
    "            # Get the EEG data for the current channel\n",
    "            channel_data = sample_data[:, channel]\n",
    "\n",
    "            # Create an interpolation function for the current channel\n",
    "            interp_func = interp1d(np.arange(1000), channel_data, kind='linear')\n",
    "\n",
    "            # Interpolate the data to increase the number of samples to 1050\n",
    "            interpolated_channel_data = interp_func(np.linspace(0, 999, 1050))\n",
    "\n",
    "            # Store the interpolated data for the current channel\n",
    "            interpolated_sample_data[:, channel] = interpolated_channel_data\n",
    "\n",
    "        # Assign the interpolated sample data to the final array\n",
    "        final_interpolated_data[sample_idx, :, :] = interpolated_sample_data\n",
    "\n",
    "    return final_interpolated_data    "
   ]
  },
  {
   "attachments": {},
   "cell_type": "markdown",
   "metadata": {},
   "source": [
    "Cropping"
   ]
  },
  {
   "cell_type": "code",
   "execution_count": 9,
   "metadata": {},
   "outputs": [],
   "source": [
    "\n",
    "def cropping(interpolated_data,raw_y_train):\n",
    "    # Initialize empty lists to store cropped segments and corresponding labels\n",
    "    cropped_segments = []\n",
    "    segment_labels = []\n",
    "\n",
    "    # Iterate over each sample\n",
    "    for sample_idx in range(interpolated_data.shape[0]):\n",
    "        # Get the EEG data for the current sample\n",
    "        sample_data = interpolated_data[sample_idx, :, :]\n",
    "        # Get the labels for the current sample\n",
    "        sample_labels = raw_y_train[sample_idx]\n",
    "        # Calculate the number of segments\n",
    "        num_segments = (sample_data.shape[0] - 1000) // 10 + 1\n",
    "        # Iterate over each segment\n",
    "        for segment_idx in range(num_segments):\n",
    "            # Calculate start index of the segment\n",
    "            start_idx = segment_idx * 10\n",
    "            # Extract the segment\n",
    "            segment = sample_data[start_idx:start_idx + 1000, :]\n",
    "            # Append the segment to the list of cropped segments\n",
    "            cropped_segments.append(segment)\n",
    "            # Extract the label for the segment\n",
    "            segment_label = sample_labels\n",
    "            # Append the label to the list of segment labels\n",
    "            segment_labels.append(segment_label)\n",
    "\n",
    "    # Convert the lists to numpy arrays\n",
    "    cropped_segments = np.array(cropped_segments)\n",
    "    segment_labels = np.array(segment_labels)\n",
    "\n",
    "    return cropped_segments,segment_labels\n"
   ]
  },
  {
   "attachments": {},
   "cell_type": "markdown",
   "metadata": {},
   "source": [
    "Changes events to 0-3 classes labes"
   ]
  },
  {
   "cell_type": "code",
   "execution_count": 10,
   "metadata": {},
   "outputs": [],
   "source": [
    "def events_to_classes(array):\n",
    "    for i in range(len(array)):\n",
    "        if array[i]==769:\n",
    "            array[i]=0\n",
    "        elif array[i]==770:\n",
    "            array[i]=1\n",
    "        elif array[i]==771:\n",
    "            array[i]=2    \n",
    "        elif array[i]==772:\n",
    "            array[i]=3\n",
    "\n",
    "    return array\n",
    "\n"
   ]
  }
 ],
 "metadata": {
  "kernelspec": {
   "display_name": "okernel",
   "language": "python",
   "name": "okernel"
  },
  "language_info": {
   "codemirror_mode": {
    "name": "ipython",
    "version": 3
   },
   "file_extension": ".py",
   "mimetype": "text/x-python",
   "name": "python",
   "nbconvert_exporter": "python",
   "pygments_lexer": "ipython3",
   "version": "3.8.0"
  },
  "orig_nbformat": 4
 },
 "nbformat": 4,
 "nbformat_minor": 2
}

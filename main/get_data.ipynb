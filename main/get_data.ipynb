{
 "cells": [
  {
   "cell_type": "code",
   "execution_count": 2,
   "metadata": {},
   "outputs": [],
   "source": [
    "import tensorflow as tf\n",
    "import os\n",
    "import keras\n",
    "import numpy as np\n",
    "import easygdf\n",
    "import mne\n",
    "import json\n",
    "import pandas as pd\n"
   ]
  },
  {
   "attachments": {},
   "cell_type": "markdown",
   "metadata": {},
   "source": [
    "Save data from gdf file to csv"
   ]
  },
  {
   "cell_type": "code",
   "execution_count": null,
   "metadata": {},
   "outputs": [],
   "source": [
    "\n",
    "filenames = [\"A01T.gdf\", \"A01E.gdf\", \"A02T.gdf\", \"A02E.gdf\",\"A03T.gdf\",\"A03E.gdf\",\"A04T.gdf\",\"A04E.gdf\",\"A05T.gdf\",\"A05E.gdf\",\"A06T.gdf\",\"A06E.gdf\",\"A07T.gdf\",\"A07E.gdf\",\"A08T.gdf\",\"A08E.gdf\",\"A09T.gdf\",\"A09E.gdf\"]\n",
    "labels = [\"A01T\", \"A01E\", \"A02T\", \"A02E\",\"A03T\",\"A03E\",\"A04T\",\"A04E\",\"A05T\",\"A05E\",\"A06T\",\"A06E\",\"A07T\",\"A07E\",\"A08T\",\"A08E\",\"A09T\",\"A09E\"]\n",
    "\n",
    "# Iterate over the filenames and labels\n",
    "for filename, label in zip(filenames, labels):\n",
    "    # Read the raw data\n",
    "    filename='../datasets/BCICIV_2a_gdf/'+filename\n",
    "    raw = mne.io.read_raw_gdf(filename)\n",
    "    \n",
    "    # Convert to DataFrame\n",
    "    df = raw.to_data_frame()\n",
    "    \n",
    "    # Save to CSV\n",
    "    df.to_csv('excel/'+label + '.csv', index=False)\n"
   ]
  },
  {
   "attachments": {},
   "cell_type": "markdown",
   "metadata": {},
   "source": [
    "seprate events from gdf files\n"
   ]
  },
  {
   "cell_type": "code",
   "execution_count": null,
   "metadata": {},
   "outputs": [],
   "source": [
    "filename = '../datasets/BCICIV_2a_gdf/A02T.gdf'\n",
    "raw = mne.io.read_raw_gdf(filename)\n",
    "df = raw.to_data_frame()\n",
    "# Access event information from the raw object\n",
    "events, event_id = mne.events_from_annotations(raw)\n",
    "\n",
    "# events is an array of shape (n_events, 3) where each row contains [sample, previous_sample, event_id]\n",
    "# event_id is a dictionary mapping event labels to event codes\n",
    "\n",
    "# Print event types and positions\n",
    "print(events[:, 2])  # Event types\n",
    "print(events[:, 0])  # Event positions (samples)"
   ]
  },
  {
   "attachments": {},
   "cell_type": "markdown",
   "metadata": {},
   "source": [
    "see all information in files"
   ]
  },
  {
   "cell_type": "code",
   "execution_count": 6,
   "metadata": {},
   "outputs": [
    {
     "name": "stdout",
     "output_type": "stream",
     "text": [
      "Extracting EDF parameters from d:\\porojects\\EEG classification\\datasets\\BCICIV_2a_gdf\\A02T.gdf...\n",
      "GDF file detected\n",
      "Setting channel info structure...\n",
      "Could not determine channel type of the following channels, they will be set as EEG:\n",
      "EEG-Fz, EEG, EEG, EEG, EEG, EEG, EEG, EEG-C3, EEG, EEG-Cz, EEG, EEG-C4, EEG, EEG, EEG, EEG, EEG, EEG, EEG, EEG-Pz, EEG, EEG, EOG-left, EOG-central, EOG-right\n",
      "Creating raw.info structure...\n",
      "<Info | 8 non-empty values\n",
      " bads: []\n",
      " ch_names: EEG-Fz, EEG-0, EEG-1, EEG-2, EEG-3, EEG-4, EEG-5, EEG-C3, EEG-6, ...\n",
      " chs: 25 EEG\n",
      " custom_ref_applied: False\n",
      " highpass: 0.5 Hz\n",
      " lowpass: 100.0 Hz\n",
      " meas_date: 2004-11-15 12:00:00 UTC\n",
      " nchan: 25\n",
      " projs: []\n",
      " sfreq: 250.0 Hz\n",
      " subject_info: 4 items (dict)\n",
      ">\n",
      "['EEG-Fz', 'EEG-0', 'EEG-1', 'EEG-2', 'EEG-3', 'EEG-4', 'EEG-5', 'EEG-C3', 'EEG-6', 'EEG-Cz', 'EEG-7', 'EEG-C4', 'EEG-8', 'EEG-9', 'EEG-10', 'EEG-11', 'EEG-12', 'EEG-13', 'EEG-14', 'EEG-Pz', 'EEG-15', 'EEG-16', 'EOG-left', 'EOG-central', 'EOG-right']\n"
     ]
    },
    {
     "name": "stderr",
     "output_type": "stream",
     "text": [
      "C:\\Users\\nima8\\AppData\\Local\\Programs\\Python\\Python38\\lib\\contextlib.py:120: RuntimeWarning: Channel names are not unique, found duplicates for: {'EEG'}. Applying running numbers for duplicates.\n",
      "  next(self.gen)\n"
     ]
    },
    {
     "name": "stdout",
     "output_type": "stream",
     "text": [
      "(25, 677169)\n",
      "250.0\n",
      "Used Annotations descriptions: ['1023', '1072', '276', '277', '32766', '768', '769', '770', '771', '772']\n",
      "[[     0      0      5]\n",
      " [     0      0      3]\n",
      " [ 31513      0      5]\n",
      " ...\n",
      " [673632      0      7]\n",
      " [675191      0      6]\n",
      " [675691      0      9]]\n",
      "{'1023': 1, '1072': 2, '276': 3, '277': 4, '32766': 5, '768': 6, '769': 7, '770': 8, '771': 9, '772': 10}\n"
     ]
    }
   ],
   "source": [
    "filename = '../datasets/BCICIV_2a_gdf/A02T.gdf'\n",
    "raw = mne.io.read_raw_gdf(filename)\n",
    "\n",
    "# Print basic information about the dataset\n",
    "print(raw.info)\n",
    "\n",
    "# Print channel names\n",
    "print(raw.ch_names)\n",
    "\n",
    "# Print data shape\n",
    "print(raw.get_data().shape)\n",
    "\n",
    "# Print sampling frequency\n",
    "print(raw.info['sfreq'])\n",
    "\n",
    "# Print events\n",
    "events, event_id = mne.events_from_annotations(raw)\n",
    "print(events)\n",
    "\n",
    "# Print event IDs\n",
    "print(event_id)"
   ]
  }
 ],
 "metadata": {
  "kernelspec": {
   "display_name": "okernel",
   "language": "python",
   "name": "okernel"
  },
  "language_info": {
   "codemirror_mode": {
    "name": "ipython",
    "version": 3
   },
   "file_extension": ".py",
   "mimetype": "text/x-python",
   "name": "python",
   "nbconvert_exporter": "python",
   "pygments_lexer": "ipython3",
   "version": "3.8.0"
  },
  "orig_nbformat": 4
 },
 "nbformat": 4,
 "nbformat_minor": 2
}

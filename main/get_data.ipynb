{
 "cells": [
  {
   "cell_type": "code",
   "execution_count": 2,
   "metadata": {},
   "outputs": [],
   "source": [
    "import tensorflow as tf\n",
    "import os\n",
    "import keras\n",
    "import numpy as np\n",
    "import easygdf\n",
    "import mne\n",
    "import json\n",
    "import pandas as pd\n"
   ]
  },
  {
   "attachments": {},
   "cell_type": "markdown",
   "metadata": {},
   "source": [
    "Save data from gdf file to csv"
   ]
  },
  {
   "cell_type": "code",
   "execution_count": 9,
   "metadata": {},
   "outputs": [
    {
     "name": "stdout",
     "output_type": "stream",
     "text": [
      "Extracting EDF parameters from d:\\porojects\\EEG classification\\datasets\\BCICIV_2a_gdf\\A01T.gdf...\n",
      "GDF file detected\n",
      "Setting channel info structure...\n",
      "Could not determine channel type of the following channels, they will be set as EEG:\n",
      "EEG-Fz, EEG, EEG, EEG, EEG, EEG, EEG, EEG-C3, EEG, EEG-Cz, EEG, EEG-C4, EEG, EEG, EEG, EEG, EEG, EEG, EEG, EEG-Pz, EEG, EEG, EOG-left, EOG-central, EOG-right\n",
      "Creating raw.info structure...\n"
     ]
    },
    {
     "name": "stderr",
     "output_type": "stream",
     "text": [
      "C:\\Users\\nima8\\AppData\\Local\\Programs\\Python\\Python38\\lib\\contextlib.py:120: RuntimeWarning: Channel names are not unique, found duplicates for: {'EEG'}. Applying running numbers for duplicates.\n",
      "  next(self.gen)\n"
     ]
    },
    {
     "name": "stdout",
     "output_type": "stream",
     "text": [
      "Extracting EDF parameters from d:\\porojects\\EEG classification\\datasets\\BCICIV_2a_gdf\\A01E.gdf...\n",
      "GDF file detected\n",
      "Setting channel info structure...\n",
      "Could not determine channel type of the following channels, they will be set as EEG:\n",
      "EEG-Fz, EEG, EEG, EEG, EEG, EEG, EEG, EEG-C3, EEG, EEG-Cz, EEG, EEG-C4, EEG, EEG, EEG, EEG, EEG, EEG, EEG, EEG-Pz, EEG, EEG, EOG-left, EOG-central, EOG-right\n",
      "Creating raw.info structure...\n"
     ]
    },
    {
     "name": "stderr",
     "output_type": "stream",
     "text": [
      "C:\\Users\\nima8\\AppData\\Local\\Programs\\Python\\Python38\\lib\\contextlib.py:120: RuntimeWarning: Channel names are not unique, found duplicates for: {'EEG'}. Applying running numbers for duplicates.\n",
      "  next(self.gen)\n"
     ]
    },
    {
     "name": "stdout",
     "output_type": "stream",
     "text": [
      "Extracting EDF parameters from d:\\porojects\\EEG classification\\datasets\\BCICIV_2a_gdf\\A02T.gdf...\n",
      "GDF file detected\n",
      "Setting channel info structure...\n",
      "Could not determine channel type of the following channels, they will be set as EEG:\n",
      "EEG-Fz, EEG, EEG, EEG, EEG, EEG, EEG, EEG-C3, EEG, EEG-Cz, EEG, EEG-C4, EEG, EEG, EEG, EEG, EEG, EEG, EEG, EEG-Pz, EEG, EEG, EOG-left, EOG-central, EOG-right\n",
      "Creating raw.info structure...\n"
     ]
    },
    {
     "name": "stderr",
     "output_type": "stream",
     "text": [
      "C:\\Users\\nima8\\AppData\\Local\\Programs\\Python\\Python38\\lib\\contextlib.py:120: RuntimeWarning: Channel names are not unique, found duplicates for: {'EEG'}. Applying running numbers for duplicates.\n",
      "  next(self.gen)\n"
     ]
    },
    {
     "name": "stdout",
     "output_type": "stream",
     "text": [
      "Extracting EDF parameters from d:\\porojects\\EEG classification\\datasets\\BCICIV_2a_gdf\\A02E.gdf...\n",
      "GDF file detected\n",
      "Setting channel info structure...\n",
      "Could not determine channel type of the following channels, they will be set as EEG:\n",
      "EEG-Fz, EEG, EEG, EEG, EEG, EEG, EEG, EEG-C3, EEG, EEG-Cz, EEG, EEG-C4, EEG, EEG, EEG, EEG, EEG, EEG, EEG, EEG-Pz, EEG, EEG, EOG-left, EOG-central, EOG-right\n",
      "Creating raw.info structure...\n"
     ]
    },
    {
     "name": "stderr",
     "output_type": "stream",
     "text": [
      "C:\\Users\\nima8\\AppData\\Local\\Programs\\Python\\Python38\\lib\\contextlib.py:120: RuntimeWarning: Channel names are not unique, found duplicates for: {'EEG'}. Applying running numbers for duplicates.\n",
      "  next(self.gen)\n"
     ]
    },
    {
     "name": "stdout",
     "output_type": "stream",
     "text": [
      "Extracting EDF parameters from d:\\porojects\\EEG classification\\datasets\\BCICIV_2a_gdf\\A03T.gdf...\n",
      "GDF file detected\n",
      "Setting channel info structure...\n",
      "Could not determine channel type of the following channels, they will be set as EEG:\n",
      "EEG-Fz, EEG, EEG, EEG, EEG, EEG, EEG, EEG-C3, EEG, EEG-Cz, EEG, EEG-C4, EEG, EEG, EEG, EEG, EEG, EEG, EEG, EEG-Pz, EEG, EEG, EOG-left, EOG-central, EOG-right\n",
      "Creating raw.info structure...\n"
     ]
    },
    {
     "name": "stderr",
     "output_type": "stream",
     "text": [
      "C:\\Users\\nima8\\AppData\\Local\\Programs\\Python\\Python38\\lib\\contextlib.py:120: RuntimeWarning: Channel names are not unique, found duplicates for: {'EEG'}. Applying running numbers for duplicates.\n",
      "  next(self.gen)\n"
     ]
    },
    {
     "name": "stdout",
     "output_type": "stream",
     "text": [
      "Extracting EDF parameters from d:\\porojects\\EEG classification\\datasets\\BCICIV_2a_gdf\\A03E.gdf...\n",
      "GDF file detected\n",
      "Setting channel info structure...\n",
      "Could not determine channel type of the following channels, they will be set as EEG:\n",
      "EEG-Fz, EEG, EEG, EEG, EEG, EEG, EEG, EEG-C3, EEG, EEG-Cz, EEG, EEG-C4, EEG, EEG, EEG, EEG, EEG, EEG, EEG, EEG-Pz, EEG, EEG, EOG-left, EOG-central, EOG-right\n",
      "Creating raw.info structure...\n"
     ]
    },
    {
     "name": "stderr",
     "output_type": "stream",
     "text": [
      "C:\\Users\\nima8\\AppData\\Local\\Programs\\Python\\Python38\\lib\\contextlib.py:120: RuntimeWarning: Channel names are not unique, found duplicates for: {'EEG'}. Applying running numbers for duplicates.\n",
      "  next(self.gen)\n"
     ]
    },
    {
     "name": "stdout",
     "output_type": "stream",
     "text": [
      "Extracting EDF parameters from d:\\porojects\\EEG classification\\datasets\\BCICIV_2a_gdf\\A04T.gdf...\n",
      "GDF file detected\n",
      "Setting channel info structure...\n",
      "Could not determine channel type of the following channels, they will be set as EEG:\n",
      "EEG-Fz, EEG, EEG, EEG, EEG, EEG, EEG, EEG-C3, EEG, EEG-Cz, EEG, EEG-C4, EEG, EEG, EEG, EEG, EEG, EEG, EEG, EEG-Pz, EEG, EEG, EOG-left, EOG-central, EOG-right\n",
      "Creating raw.info structure...\n"
     ]
    },
    {
     "name": "stderr",
     "output_type": "stream",
     "text": [
      "C:\\Users\\nima8\\AppData\\Local\\Programs\\Python\\Python38\\lib\\contextlib.py:120: RuntimeWarning: Channel names are not unique, found duplicates for: {'EEG'}. Applying running numbers for duplicates.\n",
      "  next(self.gen)\n"
     ]
    },
    {
     "name": "stdout",
     "output_type": "stream",
     "text": [
      "Extracting EDF parameters from d:\\porojects\\EEG classification\\datasets\\BCICIV_2a_gdf\\A04E.gdf...\n",
      "GDF file detected\n",
      "Setting channel info structure...\n",
      "Could not determine channel type of the following channels, they will be set as EEG:\n",
      "EEG-Fz, EEG, EEG, EEG, EEG, EEG, EEG, EEG-C3, EEG, EEG-Cz, EEG, EEG-C4, EEG, EEG, EEG, EEG, EEG, EEG, EEG, EEG-Pz, EEG, EEG, EOG-left, EOG-central, EOG-right\n",
      "Creating raw.info structure...\n"
     ]
    },
    {
     "name": "stderr",
     "output_type": "stream",
     "text": [
      "C:\\Users\\nima8\\AppData\\Local\\Programs\\Python\\Python38\\lib\\contextlib.py:120: RuntimeWarning: Channel names are not unique, found duplicates for: {'EEG'}. Applying running numbers for duplicates.\n",
      "  next(self.gen)\n"
     ]
    },
    {
     "name": "stdout",
     "output_type": "stream",
     "text": [
      "Extracting EDF parameters from d:\\porojects\\EEG classification\\datasets\\BCICIV_2a_gdf\\A05T.gdf...\n",
      "GDF file detected\n",
      "Setting channel info structure...\n",
      "Could not determine channel type of the following channels, they will be set as EEG:\n",
      "EEG-Fz, EEG, EEG, EEG, EEG, EEG, EEG, EEG-C3, EEG, EEG-Cz, EEG, EEG-C4, EEG, EEG, EEG, EEG, EEG, EEG, EEG, EEG-Pz, EEG, EEG, EOG-left, EOG-central, EOG-right\n",
      "Creating raw.info structure...\n"
     ]
    },
    {
     "name": "stderr",
     "output_type": "stream",
     "text": [
      "C:\\Users\\nima8\\AppData\\Local\\Programs\\Python\\Python38\\lib\\contextlib.py:120: RuntimeWarning: Channel names are not unique, found duplicates for: {'EEG'}. Applying running numbers for duplicates.\n",
      "  next(self.gen)\n"
     ]
    },
    {
     "name": "stdout",
     "output_type": "stream",
     "text": [
      "Extracting EDF parameters from d:\\porojects\\EEG classification\\datasets\\BCICIV_2a_gdf\\A05E.gdf...\n",
      "GDF file detected\n",
      "Setting channel info structure...\n",
      "Could not determine channel type of the following channels, they will be set as EEG:\n",
      "EEG-Fz, EEG, EEG, EEG, EEG, EEG, EEG, EEG-C3, EEG, EEG-Cz, EEG, EEG-C4, EEG, EEG, EEG, EEG, EEG, EEG, EEG, EEG-Pz, EEG, EEG, EOG-left, EOG-central, EOG-right\n",
      "Creating raw.info structure...\n"
     ]
    },
    {
     "name": "stderr",
     "output_type": "stream",
     "text": [
      "C:\\Users\\nima8\\AppData\\Local\\Programs\\Python\\Python38\\lib\\contextlib.py:120: RuntimeWarning: Channel names are not unique, found duplicates for: {'EEG'}. Applying running numbers for duplicates.\n",
      "  next(self.gen)\n"
     ]
    },
    {
     "name": "stdout",
     "output_type": "stream",
     "text": [
      "Extracting EDF parameters from d:\\porojects\\EEG classification\\datasets\\BCICIV_2a_gdf\\A06T.gdf...\n",
      "GDF file detected\n",
      "Setting channel info structure...\n",
      "Could not determine channel type of the following channels, they will be set as EEG:\n",
      "EEG-Fz, EEG, EEG, EEG, EEG, EEG, EEG, EEG-C3, EEG, EEG-Cz, EEG, EEG-C4, EEG, EEG, EEG, EEG, EEG, EEG, EEG, EEG-Pz, EEG, EEG, EOG-left, EOG-central, EOG-right\n",
      "Creating raw.info structure...\n"
     ]
    },
    {
     "name": "stderr",
     "output_type": "stream",
     "text": [
      "C:\\Users\\nima8\\AppData\\Local\\Programs\\Python\\Python38\\lib\\contextlib.py:120: RuntimeWarning: Channel names are not unique, found duplicates for: {'EEG'}. Applying running numbers for duplicates.\n",
      "  next(self.gen)\n"
     ]
    },
    {
     "name": "stdout",
     "output_type": "stream",
     "text": [
      "Extracting EDF parameters from d:\\porojects\\EEG classification\\datasets\\BCICIV_2a_gdf\\A06E.gdf...\n",
      "GDF file detected\n",
      "Setting channel info structure...\n",
      "Could not determine channel type of the following channels, they will be set as EEG:\n",
      "EEG-Fz, EEG, EEG, EEG, EEG, EEG, EEG, EEG-C3, EEG, EEG-Cz, EEG, EEG-C4, EEG, EEG, EEG, EEG, EEG, EEG, EEG, EEG-Pz, EEG, EEG, EOG-left, EOG-central, EOG-right\n",
      "Creating raw.info structure...\n"
     ]
    },
    {
     "name": "stderr",
     "output_type": "stream",
     "text": [
      "C:\\Users\\nima8\\AppData\\Local\\Programs\\Python\\Python38\\lib\\contextlib.py:120: RuntimeWarning: Channel names are not unique, found duplicates for: {'EEG'}. Applying running numbers for duplicates.\n",
      "  next(self.gen)\n"
     ]
    },
    {
     "name": "stdout",
     "output_type": "stream",
     "text": [
      "Extracting EDF parameters from d:\\porojects\\EEG classification\\datasets\\BCICIV_2a_gdf\\A07T.gdf...\n",
      "GDF file detected\n",
      "Setting channel info structure...\n",
      "Could not determine channel type of the following channels, they will be set as EEG:\n",
      "EEG-Fz, EEG, EEG, EEG, EEG, EEG, EEG, EEG-C3, EEG, EEG-Cz, EEG, EEG-C4, EEG, EEG, EEG, EEG, EEG, EEG, EEG, EEG-Pz, EEG, EEG, EOG-left, EOG-central, EOG-right\n",
      "Creating raw.info structure...\n"
     ]
    },
    {
     "name": "stderr",
     "output_type": "stream",
     "text": [
      "C:\\Users\\nima8\\AppData\\Local\\Programs\\Python\\Python38\\lib\\contextlib.py:120: RuntimeWarning: Channel names are not unique, found duplicates for: {'EEG'}. Applying running numbers for duplicates.\n",
      "  next(self.gen)\n"
     ]
    },
    {
     "name": "stdout",
     "output_type": "stream",
     "text": [
      "Extracting EDF parameters from d:\\porojects\\EEG classification\\datasets\\BCICIV_2a_gdf\\A07E.gdf...\n",
      "GDF file detected\n",
      "Setting channel info structure...\n",
      "Could not determine channel type of the following channels, they will be set as EEG:\n",
      "EEG-Fz, EEG, EEG, EEG, EEG, EEG, EEG, EEG-C3, EEG, EEG-Cz, EEG, EEG-C4, EEG, EEG, EEG, EEG, EEG, EEG, EEG, EEG-Pz, EEG, EEG, EOG-left, EOG-central, EOG-right\n",
      "Creating raw.info structure...\n"
     ]
    },
    {
     "name": "stderr",
     "output_type": "stream",
     "text": [
      "C:\\Users\\nima8\\AppData\\Local\\Programs\\Python\\Python38\\lib\\contextlib.py:120: RuntimeWarning: Channel names are not unique, found duplicates for: {'EEG'}. Applying running numbers for duplicates.\n",
      "  next(self.gen)\n"
     ]
    },
    {
     "name": "stdout",
     "output_type": "stream",
     "text": [
      "Extracting EDF parameters from d:\\porojects\\EEG classification\\datasets\\BCICIV_2a_gdf\\A08T.gdf...\n",
      "GDF file detected\n",
      "Setting channel info structure...\n",
      "Could not determine channel type of the following channels, they will be set as EEG:\n",
      "EEG-Fz, EEG, EEG, EEG, EEG, EEG, EEG, EEG-C3, EEG, EEG-Cz, EEG, EEG-C4, EEG, EEG, EEG, EEG, EEG, EEG, EEG, EEG-Pz, EEG, EEG, EOG-left, EOG-central, EOG-right\n",
      "Creating raw.info structure...\n"
     ]
    },
    {
     "name": "stderr",
     "output_type": "stream",
     "text": [
      "C:\\Users\\nima8\\AppData\\Local\\Programs\\Python\\Python38\\lib\\contextlib.py:120: RuntimeWarning: Channel names are not unique, found duplicates for: {'EEG'}. Applying running numbers for duplicates.\n",
      "  next(self.gen)\n"
     ]
    },
    {
     "name": "stdout",
     "output_type": "stream",
     "text": [
      "Extracting EDF parameters from d:\\porojects\\EEG classification\\datasets\\BCICIV_2a_gdf\\A08E.gdf...\n",
      "GDF file detected\n",
      "Setting channel info structure...\n",
      "Could not determine channel type of the following channels, they will be set as EEG:\n",
      "EEG-Fz, EEG, EEG, EEG, EEG, EEG, EEG, EEG-C3, EEG, EEG-Cz, EEG, EEG-C4, EEG, EEG, EEG, EEG, EEG, EEG, EEG, EEG-Pz, EEG, EEG, EOG-left, EOG-central, EOG-right\n",
      "Creating raw.info structure...\n"
     ]
    },
    {
     "name": "stderr",
     "output_type": "stream",
     "text": [
      "C:\\Users\\nima8\\AppData\\Local\\Programs\\Python\\Python38\\lib\\contextlib.py:120: RuntimeWarning: Channel names are not unique, found duplicates for: {'EEG'}. Applying running numbers for duplicates.\n",
      "  next(self.gen)\n"
     ]
    },
    {
     "name": "stdout",
     "output_type": "stream",
     "text": [
      "Extracting EDF parameters from d:\\porojects\\EEG classification\\datasets\\BCICIV_2a_gdf\\A09T.gdf...\n",
      "GDF file detected\n",
      "Setting channel info structure...\n",
      "Could not determine channel type of the following channels, they will be set as EEG:\n",
      "EEG-Fz, EEG, EEG, EEG, EEG, EEG, EEG, EEG-C3, EEG, EEG-Cz, EEG, EEG-C4, EEG, EEG, EEG, EEG, EEG, EEG, EEG, EEG-Pz, EEG, EEG, EOG-left, EOG-central, EOG-right\n",
      "Creating raw.info structure...\n"
     ]
    },
    {
     "name": "stderr",
     "output_type": "stream",
     "text": [
      "C:\\Users\\nima8\\AppData\\Local\\Programs\\Python\\Python38\\lib\\contextlib.py:120: RuntimeWarning: Channel names are not unique, found duplicates for: {'EEG'}. Applying running numbers for duplicates.\n",
      "  next(self.gen)\n"
     ]
    },
    {
     "name": "stdout",
     "output_type": "stream",
     "text": [
      "Extracting EDF parameters from d:\\porojects\\EEG classification\\datasets\\BCICIV_2a_gdf\\A09E.gdf...\n",
      "GDF file detected\n",
      "Setting channel info structure...\n",
      "Could not determine channel type of the following channels, they will be set as EEG:\n",
      "EEG-Fz, EEG, EEG, EEG, EEG, EEG, EEG, EEG-C3, EEG, EEG-Cz, EEG, EEG-C4, EEG, EEG, EEG, EEG, EEG, EEG, EEG, EEG-Pz, EEG, EEG, EOG-left, EOG-central, EOG-right\n",
      "Creating raw.info structure...\n"
     ]
    },
    {
     "name": "stderr",
     "output_type": "stream",
     "text": [
      "C:\\Users\\nima8\\AppData\\Local\\Programs\\Python\\Python38\\lib\\contextlib.py:120: RuntimeWarning: Channel names are not unique, found duplicates for: {'EEG'}. Applying running numbers for duplicates.\n",
      "  next(self.gen)\n"
     ]
    }
   ],
   "source": [
    "\n",
    "filenames = [\"A01T.gdf\", \"A01E.gdf\", \"A02T.gdf\", \"A02E.gdf\",\"A03T.gdf\",\"A03E.gdf\",\"A04T.gdf\",\"A04E.gdf\",\"A05T.gdf\",\"A05E.gdf\",\"A06T.gdf\",\"A06E.gdf\",\"A07T.gdf\",\"A07E.gdf\",\"A08T.gdf\",\"A08E.gdf\",\"A09T.gdf\",\"A09E.gdf\"]\n",
    "labels = [\"A01T\", \"A01E\", \"A02T\", \"A02E\",\"A03T\",\"A03E\",\"A04T\",\"A04E\",\"A05T\",\"A05E\",\"A06T\",\"A06E\",\"A07T\",\"A07E\",\"A08T\",\"A08E\",\"A09T\",\"A09E\"]\n",
    "\n",
    "# Iterate over the filenames and labels\n",
    "for filename, label in zip(filenames, labels):\n",
    "    # Read the raw data\n",
    "    filename='../datasets/BCICIV_2a_gdf/'+filename\n",
    "    raw = mne.io.read_raw_gdf(filename)\n",
    "    \n",
    "    # Convert to DataFrame\n",
    "    df = raw.to_data_frame()\n",
    "    \n",
    "    # Save to CSV\n",
    "    df.to_csv('excel/'+label + '.csv', index=False)\n"
   ]
  },
  {
   "attachments": {},
   "cell_type": "markdown",
   "metadata": {},
   "source": [
    "seprate events from gdf files\n"
   ]
  },
  {
   "cell_type": "code",
   "execution_count": 7,
   "metadata": {},
   "outputs": [
    {
     "name": "stdout",
     "output_type": "stream",
     "text": [
      "Extracting EDF parameters from d:\\porojects\\EEG classification\\datasets\\BCICIV_2a_gdf\\A02T.gdf...\n",
      "GDF file detected\n",
      "Setting channel info structure...\n",
      "Could not determine channel type of the following channels, they will be set as EEG:\n",
      "EEG-Fz, EEG, EEG, EEG, EEG, EEG, EEG, EEG-C3, EEG, EEG-Cz, EEG, EEG-C4, EEG, EEG, EEG, EEG, EEG, EEG, EEG, EEG-Pz, EEG, EEG, EOG-left, EOG-central, EOG-right\n",
      "Creating raw.info structure...\n"
     ]
    },
    {
     "name": "stderr",
     "output_type": "stream",
     "text": [
      "C:\\Users\\nima8\\AppData\\Local\\Programs\\Python\\Python38\\lib\\contextlib.py:120: RuntimeWarning: Channel names are not unique, found duplicates for: {'EEG'}. Applying running numbers for duplicates.\n",
      "  next(self.gen)\n"
     ]
    },
    {
     "name": "stdout",
     "output_type": "stream",
     "text": [
      "Used Annotations descriptions: ['1023', '1072', '276', '277', '32766', '768', '769', '770', '771', '772']\n",
      "[ 5  3  5  4  5  2  5  6  7  6  8  6  8  6  7  6  8  6  7  6  8  6  9  6\n",
      "  8  6 10  6  7  6  9  6  8  6  7  6 10  6 10  6 10  6 10  6 10  6  7  6\n",
      "  9  6  8  6  7  6  7  6  9  6 10  6  7  6  9  6  9  6  9  6  7  6  8  6\n",
      "  7  6  8  6  8  6  7  6  8  6  9  6  8  6  9  6  9  6 10  6  9  6  9  6\n",
      " 10  6 10  6 10  6 10  5  6 10  6  9  6  8  6  7  6  7  6  8  6  9  6 10\n",
      "  6  8  6  9  6  7  6  7  6  7  6 10  6  8  6  8  6  7  6  7  6  9  6  7\n",
      "  6  8  6 10  6 10  6  9  6  7  6 10  6 10  6  8  6  1 10  6 10  6  8  6\n",
      "  7  6  8  6  9  6  1  9  6  9  6 10  6  9  6  7  6 10  6  8  6  9  6  8\n",
      "  6  9  6 10  6  8  6  9  6  7  5  6  1  7  6  7  6  1 10  6  8  6  7  6\n",
      "  9  6  7  6  9  6  8  6 10  6  7  6  9  6  9  6  7  6  9  6  8  6 10  6\n",
      " 10  6 10  6  1  9  6  7  6 10  6  8  6 10  6  8  6  7  6  9  6  8  6  7\n",
      "  6  9  6  9  6  7  6  9  6 10  6 10  6  8  6  7  6  8  6 10  6  8  6 10\n",
      "  6  9  6  8  6  8  6  8  6  9  6 10  6  7  5  6  8  6 10  6  7  6  9  6\n",
      "  9  6 10  6  7  6  7  6  9  6  8  6 10  6 10  6 10  6  8  6  7  6  1  9\n",
      "  6  8  6 10  6  7  6 10  6  9  6  8  6 10  6 10  6  7  6  8  6  8  6  1\n",
      "  9  6 10  6  8  6  7  6  7  6 10  6  8  6  7  6  9  6  8  6  8  6  9  6\n",
      "  1  7  6 10  6  9  6  9  6  9  6  9  6  7  6  8  6  7  5  6  8  6  7  6\n",
      "  7  6  9  6  9  6  8  6  9  6 10  6  7  6 10  6  7  6  7  6  8  6 10  6\n",
      "  9  6  8  6 10  6  9  6 10  6  9  6 10  6  8  6  8  6 10  6  7  6  8  6\n",
      "  8  6  8  6  9  6 10  6  7  6 10  6  7  6  9  6  7  6 10  6  1  7  6  9\n",
      "  6  7  6  8  6  9  6  9  6 10  6  7  6  8  6 10  6  1  8  6  9  5  6  1\n",
      "  9  6  1  7  6 10  6  8  6  1 10  6  7  6  7  6  9  6  9  6  8  6 10  6\n",
      "  8  6  8  6  7  6  1  8  6 10  6 10  6  8  6  8  6  8  6  8  6 10  6 10\n",
      "  6  9  6 10  6  7  6  8  6  9  6  1  8  6  7  6 10  6  7  6 10  6  7  6\n",
      "  1  7  6  7  6  7  6  9  6  1  9  6  1 10  6  8  6  9  6  9  6  9  6 10\n",
      "  6  9  6  7  6  9]\n",
      "[     0      0  31513  31513  57602  57602  96159  96509  97009  98512\n",
      "  99012 100430 100930 102382 102882 104390 104890 106501 107001 108418\n",
      " 108918 110468 110968 112399 112899 114397 114897 116303 116803 118198\n",
      " 118698 120170 120670 122114 122614 124081 124581 126201 126701 128209\n",
      " 128709 130275 130775 132311 132811 134377 134877 136447 136947 138527\n",
      " 139027 140439 140939 142470 142970 144423 144923 146384 146884 148488\n",
      " 148988 150492 150992 152467 152967 154493 154993 156564 157064 158671\n",
      " 159171 160763 161263 162854 163354 164897 165397 166961 167461 168981\n",
      " 169481 170953 171453 172916 173416 174841 175341 176922 177422 178900\n",
      " 179400 180890 181390 183009 183509 184915 185415 186843 187343 188957\n",
      " 189457 191016 191516 192994 193344 193844 195347 195847 197265 197765\n",
      " 199217 199717 201225 201725 203336 203836 205253 205753 207303 207803\n",
      " 209234 209734 211232 211732 213138 213638 215033 215533 217005 217505\n",
      " 218949 219449 220916 221416 223036 223536 225044 225544 227110 227610\n",
      " 229146 229646 231212 231712 233282 233782 235362 235862 237274 237774\n",
      " 239305 239805 241258 241758 243219 243719 245323 245823 247327 247827\n",
      " 249302 249302 249802 251328 251828 253399 253899 255506 256006 257598\n",
      " 258098 259689 260189 261732 261732 262232 263796 264296 265816 266316\n",
      " 267788 268288 269751 270251 271676 272176 273757 274257 275735 276235\n",
      " 277725 278225 279844 280344 281750 282250 283678 284178 285792 286292\n",
      " 287851 288351 289829 290179 290179 290679 292182 292682 294100 294100\n",
      " 294600 296052 296552 298060 298560 300171 300671 302088 302588 304138\n",
      " 304638 306069 306569 308067 308567 309973 310473 311868 312368 313840\n",
      " 314340 315784 316284 317751 318251 319871 320371 321879 322379 323945\n",
      " 324445 325981 326481 328047 328047 328547 330117 330617 332197 332697\n",
      " 334109 334609 336140 336640 338093 338593 340054 340554 342158 342658\n",
      " 344162 344662 346137 346637 348163 348663 350234 350734 352341 352841\n",
      " 354433 354933 356524 357024 358567 359067 360631 361131 362651 363151\n",
      " 364623 365123 366586 367086 368511 369011 370592 371092 372570 373070\n",
      " 374560 375060 376679 377179 378585 379085 380513 381013 382627 383127\n",
      " 384686 385186 386664 387014 387514 389017 389517 390935 391435 392887\n",
      " 393387 394895 395395 397006 397506 398923 399423 400973 401473 402904\n",
      " 403404 404902 405402 406808 407308 408703 409203 410675 411175 412619\n",
      " 413119 414586 415086 416706 416706 417206 418714 419214 420780 421280\n",
      " 422816 423316 424882 425382 426952 427452 429032 429532 430944 431444\n",
      " 432975 433475 434928 435428 436889 437389 438993 439493 440997 440997\n",
      " 441497 442972 443472 444998 445498 447069 447569 449176 449676 451268\n",
      " 451768 453359 453859 455402 455902 457466 457966 459486 459986 461458\n",
      " 461958 463421 463921 465346 465346 465846 467427 467927 469405 469905\n",
      " 471395 471895 473514 474014 475420 475920 477348 477848 479462 479962\n",
      " 481521 482021 483499 483849 484349 485852 486352 487770 488270 489722\n",
      " 490222 491730 492230 493841 494341 495758 496258 497808 498308 499739\n",
      " 500239 501737 502237 503643 504143 505538 506038 507510 508010 509454\n",
      " 509954 511421 511921 513541 514041 515549 516049 517615 518115 519651\n",
      " 520151 521717 522217 523787 524287 525867 526367 527779 528279 529810\n",
      " 530310 531763 532263 533724 534224 535828 536328 537832 538332 539807\n",
      " 540307 541833 542333 543904 544404 546011 546511 548103 548603 550194\n",
      " 550694 552237 552737 554301 554801 556321 556321 556821 558293 558793\n",
      " 560256 560756 562181 562681 564262 564762 566240 566740 568230 568730\n",
      " 570349 570849 572255 572755 574183 574683 576297 576297 576797 578356\n",
      " 578856 580334 580684 580684 581184 582687 582687 583187 584605 585105\n",
      " 586557 587057 588565 588565 589065 590676 591176 592593 593093 594643\n",
      " 595143 596574 597074 598572 599072 600478 600978 602373 602873 604345\n",
      " 604845 606289 606789 608256 608256 608756 610376 610876 612384 612884\n",
      " 614450 614950 616486 616986 618552 619052 620622 621122 622702 623202\n",
      " 624614 625114 626645 627145 628598 629098 630559 631059 632663 633163\n",
      " 634667 635167 636642 636642 637142 638668 639168 640739 641239 642846\n",
      " 643346 644938 645438 647029 647529 649072 649072 649572 651136 651636\n",
      " 653156 653656 655128 655628 657091 657091 657591 659016 659016 659516\n",
      " 661097 661597 663075 663575 665065 665565 667184 667684 669090 669590\n",
      " 671018 671518 673132 673632 675191 675691]\n"
     ]
    }
   ],
   "source": [
    "filename = '../datasets/BCICIV_2a_gdf/A02T.gdf'\n",
    "raw = mne.io.read_raw_gdf(filename)\n",
    "df = raw.to_data_frame()\n",
    "# Access event information from the raw object\n",
    "events, event_id = mne.events_from_annotations(raw)\n",
    "\n",
    "# events is an array of shape (n_events, 3) where each row contains [sample, previous_sample, event_id]\n",
    "# event_id is a dictionary mapping event labels to event codes\n",
    "\n",
    "# Print event types and positions\n",
    "print(events[:, 2])  # Event types\n",
    "print(events[:, 0])  # Event positions (samples)"
   ]
  },
  {
   "attachments": {},
   "cell_type": "markdown",
   "metadata": {},
   "source": [
    "see all information in files"
   ]
  },
  {
   "cell_type": "code",
   "execution_count": 6,
   "metadata": {},
   "outputs": [
    {
     "name": "stdout",
     "output_type": "stream",
     "text": [
      "Extracting EDF parameters from d:\\porojects\\EEG classification\\datasets\\BCICIV_2a_gdf\\A02T.gdf...\n",
      "GDF file detected\n",
      "Setting channel info structure...\n",
      "Could not determine channel type of the following channels, they will be set as EEG:\n",
      "EEG-Fz, EEG, EEG, EEG, EEG, EEG, EEG, EEG-C3, EEG, EEG-Cz, EEG, EEG-C4, EEG, EEG, EEG, EEG, EEG, EEG, EEG, EEG-Pz, EEG, EEG, EOG-left, EOG-central, EOG-right\n",
      "Creating raw.info structure...\n",
      "<Info | 8 non-empty values\n",
      " bads: []\n",
      " ch_names: EEG-Fz, EEG-0, EEG-1, EEG-2, EEG-3, EEG-4, EEG-5, EEG-C3, EEG-6, ...\n",
      " chs: 25 EEG\n",
      " custom_ref_applied: False\n",
      " highpass: 0.5 Hz\n",
      " lowpass: 100.0 Hz\n",
      " meas_date: 2004-11-15 12:00:00 UTC\n",
      " nchan: 25\n",
      " projs: []\n",
      " sfreq: 250.0 Hz\n",
      " subject_info: 4 items (dict)\n",
      ">\n",
      "['EEG-Fz', 'EEG-0', 'EEG-1', 'EEG-2', 'EEG-3', 'EEG-4', 'EEG-5', 'EEG-C3', 'EEG-6', 'EEG-Cz', 'EEG-7', 'EEG-C4', 'EEG-8', 'EEG-9', 'EEG-10', 'EEG-11', 'EEG-12', 'EEG-13', 'EEG-14', 'EEG-Pz', 'EEG-15', 'EEG-16', 'EOG-left', 'EOG-central', 'EOG-right']\n"
     ]
    },
    {
     "name": "stderr",
     "output_type": "stream",
     "text": [
      "C:\\Users\\nima8\\AppData\\Local\\Programs\\Python\\Python38\\lib\\contextlib.py:120: RuntimeWarning: Channel names are not unique, found duplicates for: {'EEG'}. Applying running numbers for duplicates.\n",
      "  next(self.gen)\n"
     ]
    },
    {
     "name": "stdout",
     "output_type": "stream",
     "text": [
      "(25, 677169)\n",
      "250.0\n",
      "Used Annotations descriptions: ['1023', '1072', '276', '277', '32766', '768', '769', '770', '771', '772']\n",
      "[[     0      0      5]\n",
      " [     0      0      3]\n",
      " [ 31513      0      5]\n",
      " ...\n",
      " [673632      0      7]\n",
      " [675191      0      6]\n",
      " [675691      0      9]]\n",
      "{'1023': 1, '1072': 2, '276': 3, '277': 4, '32766': 5, '768': 6, '769': 7, '770': 8, '771': 9, '772': 10}\n"
     ]
    }
   ],
   "source": [
    "filename = '../datasets/BCICIV_2a_gdf/A02T.gdf'\n",
    "raw = mne.io.read_raw_gdf(filename)\n",
    "\n",
    "# Print basic information about the dataset\n",
    "print(raw.info)\n",
    "\n",
    "# Print channel names\n",
    "print(raw.ch_names)\n",
    "\n",
    "# Print data shape\n",
    "print(raw.get_data().shape)\n",
    "\n",
    "# Print sampling frequency\n",
    "print(raw.info['sfreq'])\n",
    "\n",
    "# Print events\n",
    "events, event_id = mne.events_from_annotations(raw)\n",
    "print(events)\n",
    "\n",
    "# Print event IDs\n",
    "print(event_id)"
   ]
  }
 ],
 "metadata": {
  "kernelspec": {
   "display_name": "okernel",
   "language": "python",
   "name": "okernel"
  },
  "language_info": {
   "codemirror_mode": {
    "name": "ipython",
    "version": 3
   },
   "file_extension": ".py",
   "mimetype": "text/x-python",
   "name": "python",
   "nbconvert_exporter": "python",
   "pygments_lexer": "ipython3",
   "version": "3.8.0"
  },
  "orig_nbformat": 4
 },
 "nbformat": 4,
 "nbformat_minor": 2
}

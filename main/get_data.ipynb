{
 "cells": [
  {
   "cell_type": "code",
   "execution_count": 3,
   "metadata": {},
   "outputs": [],
   "source": [
    "import tensorflow as tf\n",
    "import os\n",
    "import keras\n",
    "import numpy as np\n",
    "import easygdf\n",
    "import mne\n",
    "import json\n",
    "import pandas as pd\n"
   ]
  },
  {
   "attachments": {},
   "cell_type": "markdown",
   "metadata": {},
   "source": [
    "Save data from gdf file to csv"
   ]
  },
  {
   "cell_type": "code",
   "execution_count": null,
   "metadata": {},
   "outputs": [],
   "source": [
    "\n",
    "filenames = [\"A01T.gdf\", \"A01E.gdf\", \"A02T.gdf\", \"A02E.gdf\",\"A03T.gdf\",\"A03E.gdf\",\"A04T.gdf\",\"A04E.gdf\",\"A05T.gdf\",\"A05E.gdf\",\"A06T.gdf\",\"A06E.gdf\",\"A07T.gdf\",\"A07E.gdf\",\"A08T.gdf\",\"A08E.gdf\",\"A09T.gdf\",\"A09E.gdf\"]\n",
    "labels = [\"A01T\", \"A01E\", \"A02T\", \"A02E\",\"A03T\",\"A03E\",\"A04T\",\"A04E\",\"A05T\",\"A05E\",\"A06T\",\"A06E\",\"A07T\",\"A07E\",\"A08T\",\"A08E\",\"A09T\",\"A09E\"]\n",
    "\n",
    "# Iterate over the filenames and labels\n",
    "for filename, label in zip(filenames, labels):\n",
    "    # Read the raw data\n",
    "    filename='../datasets/BCICIV_2a_gdf/'+filename\n",
    "    raw = mne.io.read_raw_gdf(filename)\n",
    "    \n",
    "    # Convert to DataFrame\n",
    "    df = raw.to_data_frame()\n",
    "    \n",
    "    # Save to CSV\n",
    "    df.to_csv('excel/'+label + '.csv', index=False)\n"
   ]
  },
  {
   "attachments": {},
   "cell_type": "markdown",
   "metadata": {},
   "source": [
    "seprate events from gdf files\n"
   ]
  },
  {
   "cell_type": "code",
   "execution_count": 34,
   "metadata": {},
   "outputs": [
    {
     "name": "stdout",
     "output_type": "stream",
     "text": [
      "Extracting EDF parameters from d:\\porojects\\EEG classification\\datasets\\BCICIV_2a_gdf\\A01T.gdf...\n",
      "GDF file detected\n",
      "Setting channel info structure...\n",
      "Could not determine channel type of the following channels, they will be set as EEG:\n",
      "EEG-Fz, EEG, EEG, EEG, EEG, EEG, EEG, EEG-C3, EEG, EEG-Cz, EEG, EEG-C4, EEG, EEG, EEG, EEG, EEG, EEG, EEG, EEG-Pz, EEG, EEG, EOG-left, EOG-central, EOG-right\n",
      "Creating raw.info structure...\n",
      "Used Annotations descriptions: ['1023', '1072', '276', '277', '32766', '768', '769', '770', '771', '772']\n",
      "nima\n"
     ]
    },
    {
     "name": "stderr",
     "output_type": "stream",
     "text": [
      "C:\\Users\\nima8\\AppData\\Local\\Programs\\Python\\Python38\\lib\\contextlib.py:120: RuntimeWarning: Channel names are not unique, found duplicates for: {'EEG'}. Applying running numbers for duplicates.\n",
      "  next(self.gen)\n"
     ]
    }
   ],
   "source": [
    "filename = '../datasets/BCICIV_2a_gdf/A01T.gdf'\n",
    "raw = mne.io.read_raw_gdf(filename)\n",
    "\n",
    "# Access event information from the raw object\n",
    "events, event_id = mne.events_from_annotations(raw)\n",
    "\n",
    "#the list have the dictionary that map each events' id  to events' labels\n",
    "events_id_labels = list(event_id.keys())\n",
    "\n",
    "#create array for gather togther events' type and positions\n",
    "events_with_labels= np.zeros_like(events)\n",
    "\n",
    "\n",
    "\n",
    "for i in range(len(events)):\n",
    "    events_with_labels[i,0]=events[i,0]\n",
    "    id=events[i,2]\n",
    "    events_with_labels[i,1]=events_id_labels[id-1] # be in dalil ke dar list event ha ma id 10 drim vali araye events_id_labels k az tarigh key dastresi peyda krdim yedone adadash paiin tare\n",
    "        \n",
    "print(\"nima\")\n",
    "\n"
   ]
  },
  {
   "cell_type": "code",
   "execution_count": 17,
   "metadata": {},
   "outputs": [
    {
     "name": "stdout",
     "output_type": "stream",
     "text": [
      "Event Positions (Times): [   0.       0.     126.052  126.052  230.408  230.408  384.636  386.036\n",
      "  388.036  394.048  396.048  401.72   403.72   409.528  411.528  417.56\n",
      "  419.56   426.004  428.004  433.672  435.672  441.872  443.872  449.596\n",
      "  451.596  457.588  459.588  465.212  467.212  472.792  474.792  480.68\n",
      "  482.68   488.456  490.456  496.324  498.324  504.804  506.804  512.836\n",
      "  514.836  521.1    523.1    529.244  531.244  537.508  539.508  545.788\n",
      "  547.788  554.108  556.108  561.756  563.756  569.88   571.88   577.692\n",
      "  579.692  585.536  587.536  593.952  595.952  601.968  603.968  609.868\n",
      "  611.868  617.972  619.972  626.256  628.256  634.684  636.684  643.052\n",
      "  645.052  651.416  653.416  659.588  661.588  667.844  669.844  675.924\n",
      "  677.924  683.812  685.812  691.664  693.664  699.364  701.364  707.688\n",
      "  709.688  715.6    717.6    723.56   725.56   732.036  734.036  739.66\n",
      "  741.66   747.372  749.372  755.828  757.828  764.064  766.064  771.976\n",
      "  773.376  775.376  781.388  783.388  789.06   791.06   796.868  798.868\n",
      "  804.9    806.9    813.344  815.344  821.012  823.012  829.212  831.212\n",
      "  836.936  838.936  844.928  846.928  852.552  854.552  860.132  862.132\n",
      "  868.02   870.02   875.796  877.796  883.664  885.664  892.144  894.144\n",
      "  900.176  902.176  908.44   910.44   916.584  918.584  924.848  926.848\n",
      "  933.128  935.128  941.448  943.448  949.096  951.096  957.22   959.22\n",
      "  965.032  967.032  972.876  974.876  981.292  983.292  989.308  991.308\n",
      "  997.208  997.208  999.208 1005.312 1007.312 1013.596 1015.596 1022.024\n",
      " 1024.024 1030.392 1032.392 1038.756 1040.756 1046.928 1046.928 1048.928\n",
      " 1055.184 1057.184 1063.264 1065.264 1071.152 1073.152 1079.004 1081.004\n",
      " 1086.704 1088.704 1095.028 1097.028 1102.94  1104.94  1110.9   1112.9\n",
      " 1119.376 1121.376 1127.    1129.    1134.712 1136.712 1143.168 1145.168\n",
      " 1151.404 1153.404 1159.316 1160.716 1160.716 1162.716 1168.728 1170.728\n",
      " 1176.4   1176.4   1178.4   1184.208 1186.208 1192.24  1194.24  1200.684\n",
      " 1202.684 1208.352 1210.352 1216.552 1218.552 1224.276 1226.276 1232.268\n",
      " 1234.268 1239.892 1241.892 1247.472 1249.472 1255.36  1257.36  1263.136\n",
      " 1265.136 1271.004 1273.004 1279.484 1281.484 1287.516 1289.516 1295.78\n",
      " 1297.78  1303.924 1305.924 1312.188 1312.188 1314.188 1320.468 1322.468\n",
      " 1328.788 1330.788 1336.436 1338.436 1344.56  1346.56  1352.372 1354.372\n",
      " 1360.216 1362.216 1368.632 1370.632 1376.648 1378.648 1384.548 1386.548\n",
      " 1392.652 1394.652 1400.936 1402.936 1409.364 1411.364 1417.732 1419.732\n",
      " 1426.096 1428.096 1434.268 1436.268 1442.524 1444.524 1450.604 1452.604\n",
      " 1458.492 1460.492 1466.344 1468.344 1474.044 1476.044 1482.368 1484.368\n",
      " 1490.28  1492.28  1498.24  1500.24  1506.716 1508.716 1514.34  1516.34\n",
      " 1522.052 1524.052 1530.508 1532.508 1538.744 1540.744 1546.656 1548.056\n",
      " 1550.056 1556.068 1558.068 1563.74  1565.74  1571.548 1573.548 1579.58\n",
      " 1581.58  1588.024 1590.024 1595.692 1597.692 1603.892 1605.892 1611.616\n",
      " 1613.616 1619.608 1621.608 1627.232 1629.232 1634.812 1636.812 1642.7\n",
      " 1644.7   1650.476 1652.476 1658.344 1660.344 1666.824 1666.824 1668.824\n",
      " 1674.856 1676.856 1683.12  1685.12  1691.264 1693.264 1699.528 1701.528\n",
      " 1707.808 1709.808 1716.128 1718.128 1723.776 1725.776 1731.9   1733.9\n",
      " 1739.712 1741.712 1747.556 1749.556 1755.972 1757.972 1763.988 1763.988\n",
      " 1765.988 1771.888 1773.888 1779.992 1781.992 1788.276 1790.276 1796.704\n",
      " 1798.704 1805.072 1807.072 1813.436 1815.436 1821.608 1823.608 1829.864\n",
      " 1831.864 1837.944 1839.944 1845.832 1847.832 1853.684 1855.684 1861.384\n",
      " 1861.384 1863.384 1869.708 1871.708 1877.62  1879.62  1885.58  1887.58\n",
      " 1894.056 1896.056 1901.68  1903.68  1909.392 1911.392 1917.848 1919.848\n",
      " 1926.084 1928.084 1933.996 1935.396 1937.396 1943.408 1945.408 1951.08\n",
      " 1953.08  1958.888 1960.888 1966.92  1968.92  1975.364 1977.364 1983.032\n",
      " 1985.032 1991.232 1993.232 1998.956 2000.956 2006.948 2008.948 2014.572\n",
      " 2016.572 2022.152 2024.152 2030.04  2032.04  2037.816 2039.816 2045.684\n",
      " 2047.684 2054.164 2056.164 2062.196 2064.196 2070.46  2072.46  2078.604\n",
      " 2080.604 2086.868 2088.868 2095.148 2097.148 2103.468 2105.468 2111.116\n",
      " 2113.116 2119.24  2121.24  2127.052 2129.052 2134.896 2136.896 2143.312\n",
      " 2145.312 2151.328 2153.328 2159.228 2161.228 2167.332 2169.332 2175.616\n",
      " 2177.616 2184.044 2186.044 2192.412 2194.412 2200.776 2202.776 2208.948\n",
      " 2210.948 2217.204 2219.204 2225.284 2225.284 2227.284 2233.172 2235.172\n",
      " 2241.024 2243.024 2248.724 2250.724 2257.048 2259.048 2264.96  2266.96\n",
      " 2272.92  2274.92  2281.396 2283.396 2289.02  2291.02  2296.732 2298.732\n",
      " 2305.188 2305.188 2307.188 2313.424 2315.424 2321.336 2322.736 2322.736\n",
      " 2324.736 2330.748 2330.748 2332.748 2338.42  2340.42  2346.228 2348.228\n",
      " 2354.26  2354.26  2356.26  2362.704 2364.704 2370.372 2372.372 2378.572\n",
      " 2380.572 2386.296 2388.296 2394.288 2396.288 2401.912 2403.912 2409.492\n",
      " 2411.492 2417.38  2419.38  2425.156 2427.156 2433.024 2433.024 2435.024\n",
      " 2441.504 2443.504 2449.536 2451.536 2457.8   2459.8   2465.944 2467.944\n",
      " 2474.208 2476.208 2482.488 2484.488 2490.808 2492.808 2498.456 2500.456\n",
      " 2506.58  2508.58  2514.392 2516.392 2522.236 2524.236 2530.652 2532.652\n",
      " 2538.668 2540.668 2546.568 2546.568 2548.568 2554.672 2556.672 2562.956\n",
      " 2564.956 2571.384 2573.384 2579.752 2581.752 2588.116 2590.116 2596.288\n",
      " 2596.288 2598.288 2604.544 2606.544 2612.624 2614.624 2620.512 2622.512\n",
      " 2628.364 2628.364 2630.364 2636.064 2636.064 2638.064 2644.388 2646.388\n",
      " 2652.3   2654.3   2660.26  2662.26  2668.736 2670.736 2676.36  2678.36\n",
      " 2684.072 2686.072 2692.528 2694.528 2700.764 2702.764]\n"
     ]
    }
   ],
   "source": [
    "\n",
    "\n",
    "# Get the sample indices of the events\n",
    "event_positions_samples = events[:, 0]\n",
    "\n",
    "# Get the corresponding time points from raw\n",
    "event_positions_times = raw.times[event_positions_samples]\n",
    "\n",
    "# Print event positions (times)\n",
    "print(\"Event Positions (Times):\", event_positions_times)"
   ]
  },
  {
   "cell_type": "code",
   "execution_count": 7,
   "metadata": {},
   "outputs": [
    {
     "name": "stdout",
     "output_type": "stream",
     "text": [
      "Event information saved to event_info.xlsx\n"
     ]
    }
   ],
   "source": [
    "# Create a DataFrame from the event information\n",
    "event_df = pd.DataFrame({\n",
    "    'Event Type': events[:, 2],  # Event types\n",
    "    'Event Position': events[:, 0],  # Event positions (samples)\n",
    "    'Event du': events[:, 1]  # Event positions (samples)\n",
    "})\n",
    "\n",
    "# Save DataFrame to Excel file\n",
    "excel_filename = 'event_info.xlsx'\n",
    "event_df.to_excel(excel_filename, index=False)\n",
    "\n",
    "print(\"Event information saved to\", excel_filename)"
   ]
  },
  {
   "attachments": {},
   "cell_type": "markdown",
   "metadata": {},
   "source": [
    "see all information in files"
   ]
  },
  {
   "cell_type": "code",
   "execution_count": 6,
   "metadata": {},
   "outputs": [
    {
     "name": "stdout",
     "output_type": "stream",
     "text": [
      "Extracting EDF parameters from d:\\porojects\\EEG classification\\datasets\\BCICIV_2a_gdf\\A02T.gdf...\n",
      "GDF file detected\n",
      "Setting channel info structure...\n",
      "Could not determine channel type of the following channels, they will be set as EEG:\n",
      "EEG-Fz, EEG, EEG, EEG, EEG, EEG, EEG, EEG-C3, EEG, EEG-Cz, EEG, EEG-C4, EEG, EEG, EEG, EEG, EEG, EEG, EEG, EEG-Pz, EEG, EEG, EOG-left, EOG-central, EOG-right\n",
      "Creating raw.info structure...\n",
      "<Info | 8 non-empty values\n",
      " bads: []\n",
      " ch_names: EEG-Fz, EEG-0, EEG-1, EEG-2, EEG-3, EEG-4, EEG-5, EEG-C3, EEG-6, ...\n",
      " chs: 25 EEG\n",
      " custom_ref_applied: False\n",
      " highpass: 0.5 Hz\n",
      " lowpass: 100.0 Hz\n",
      " meas_date: 2004-11-15 12:00:00 UTC\n",
      " nchan: 25\n",
      " projs: []\n",
      " sfreq: 250.0 Hz\n",
      " subject_info: 4 items (dict)\n",
      ">\n",
      "['EEG-Fz', 'EEG-0', 'EEG-1', 'EEG-2', 'EEG-3', 'EEG-4', 'EEG-5', 'EEG-C3', 'EEG-6', 'EEG-Cz', 'EEG-7', 'EEG-C4', 'EEG-8', 'EEG-9', 'EEG-10', 'EEG-11', 'EEG-12', 'EEG-13', 'EEG-14', 'EEG-Pz', 'EEG-15', 'EEG-16', 'EOG-left', 'EOG-central', 'EOG-right']\n"
     ]
    },
    {
     "name": "stderr",
     "output_type": "stream",
     "text": [
      "C:\\Users\\nima8\\AppData\\Local\\Programs\\Python\\Python38\\lib\\contextlib.py:120: RuntimeWarning: Channel names are not unique, found duplicates for: {'EEG'}. Applying running numbers for duplicates.\n",
      "  next(self.gen)\n"
     ]
    },
    {
     "name": "stdout",
     "output_type": "stream",
     "text": [
      "(25, 677169)\n",
      "250.0\n",
      "Used Annotations descriptions: ['1023', '1072', '276', '277', '32766', '768', '769', '770', '771', '772']\n",
      "[[     0      0      5]\n",
      " [     0      0      3]\n",
      " [ 31513      0      5]\n",
      " ...\n",
      " [673632      0      7]\n",
      " [675191      0      6]\n",
      " [675691      0      9]]\n",
      "{'1023': 1, '1072': 2, '276': 3, '277': 4, '32766': 5, '768': 6, '769': 7, '770': 8, '771': 9, '772': 10}\n"
     ]
    }
   ],
   "source": [
    "filename = '../datasets/BCICIV_2a_gdf/A02T.gdf'\n",
    "raw = mne.io.read_raw_gdf(filename)\n",
    "\n",
    "# Print basic information about the dataset\n",
    "print(raw.info)\n",
    "\n",
    "# Print channel names\n",
    "print(raw.ch_names)\n",
    "\n",
    "# Print data shape\n",
    "print(raw.get_data().shape)\n",
    "\n",
    "# Print sampling frequency\n",
    "print(raw.info['sfreq'])\n",
    "\n",
    "# Print events\n",
    "events, event_id = mne.events_from_annotations(raw)\n",
    "print(events)\n",
    "\n",
    "# Print event IDs\n",
    "print(event_id)"
   ]
  }
 ],
 "metadata": {
  "kernelspec": {
   "display_name": "okernel",
   "language": "python",
   "name": "okernel"
  },
  "language_info": {
   "codemirror_mode": {
    "name": "ipython",
    "version": 3
   },
   "file_extension": ".py",
   "mimetype": "text/x-python",
   "name": "python",
   "nbconvert_exporter": "python",
   "pygments_lexer": "ipython3",
   "version": "3.8.0"
  },
  "orig_nbformat": 4
 },
 "nbformat": 4,
 "nbformat_minor": 2
}

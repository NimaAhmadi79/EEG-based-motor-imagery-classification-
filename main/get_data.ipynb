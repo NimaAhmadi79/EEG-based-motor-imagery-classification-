{
 "cells": [
  {
   "cell_type": "code",
   "execution_count": 4,
   "metadata": {},
   "outputs": [],
   "source": [
    "import tensorflow as tf\n",
    "import os\n",
    "import keras\n",
    "import numpy as np\n",
    "import easygdf\n",
    "import mne\n",
    "import json\n",
    "import pandas as pd\n"
   ]
  },
  {
   "attachments": {},
   "cell_type": "markdown",
   "metadata": {},
   "source": [
    "get events and positions from gdf files\n"
   ]
  },
  {
   "cell_type": "code",
   "execution_count": 2,
   "metadata": {},
   "outputs": [],
   "source": [
    "def event_position():\n",
    "\n",
    "    filenames = [\"A01T.gdf\", \"A01E.gdf\", \"A02T.gdf\", \"A02E.gdf\",\"A03T.gdf\",\"A03E.gdf\",\"A04T.gdf\",\"A04E.gdf\",\"A05T.gdf\",\"A05E.gdf\",\"A06T.gdf\",\"A06E.gdf\",\"A07T.gdf\",\"A07E.gdf\",\"A08T.gdf\",\"A08E.gdf\",\"A09T.gdf\",\"A09E.gdf\"]\n",
    "    labels = [\"A01T\", \"A01E\", \"A02T\", \"A02E\",\"A03T\",\"A03E\",\"A04T\",\"A04E\",\"A05T\",\"A05E\",\"A06T\",\"A06E\",\"A07T\",\"A07E\",\"A08T\",\"A08E\",\"A09T\",\"A09E\"]\n",
    "\n",
    "\n",
    "    events_with_labels_arrays = {}\n",
    "\n",
    "    for filename, label in zip(filenames, labels):\n",
    "\n",
    "        filename='../datasets/BCICIV_2a_gdf/'+filename\n",
    "        raw = mne.io.read_raw_gdf(filename)\n",
    "\n",
    "        # Access event information from the raw object\n",
    "        events, event_id = mne.events_from_annotations(raw)\n",
    "\n",
    "        #the list have the dictionary that map each events' id  to events' labels\n",
    "        events_id_labels = list(event_id.keys())\n",
    "\n",
    "        #create array for gather togther events' type and positions\n",
    "        temp= np.zeros_like(events)\n",
    "\n",
    "\n",
    "        for i in range(len(events)):\n",
    "            temp[i,0]=events[i,0]\n",
    "            id=events[i,2]\n",
    "            temp[i,1]=events_id_labels[id-1] # be in dalil ke dar list event ha ma id 10 drim vali araye events_id_labels k az tarigh key dastresi peyda krdim yedone adadash paiin tare\n",
    "\n",
    "        events_with_labels_arrays[label] = temp\n",
    "\n",
    "    \n",
    "    # Get the sample indices of the events\n",
    "    #event_positions_samples = events[:, 0]\n",
    "\n",
    "    # Get the corresponding time points from raw\n",
    "    #event_positions_times = raw.times[event_positions_samples]    \n",
    "\n",
    "    return events_with_labels_arrays\n"
   ]
  },
  {
   "attachments": {},
   "cell_type": "markdown",
   "metadata": {},
   "source": [
    "save data in array"
   ]
  },
  {
   "cell_type": "code",
   "execution_count": 3,
   "metadata": {},
   "outputs": [],
   "source": [
    "def save_data_in_array():\n",
    "\n",
    "    filenames = [\"A01T.gdf\", \"A01E.gdf\", \"A02T.gdf\", \"A02E.gdf\",\"A03T.gdf\",\"A03E.gdf\",\"A04T.gdf\",\"A04E.gdf\",\"A05T.gdf\",\"A05E.gdf\",\"A06T.gdf\",\"A06E.gdf\",\"A07T.gdf\",\"A07E.gdf\",\"A08T.gdf\",\"A08E.gdf\",\"A09T.gdf\",\"A09E.gdf\"]\n",
    "    labels = [\"A01T\", \"A01E\", \"A02T\", \"A02E\",\"A03T\",\"A03E\",\"A04T\",\"A04E\",\"A05T\",\"A05E\",\"A06T\",\"A06E\",\"A07T\",\"A07E\",\"A08T\",\"A08E\",\"A09T\",\"A09E\"]\n",
    "\n",
    "\n",
    "    # Create a dictionary to store data arrays\n",
    "    data_arrays = {}\n",
    "\n",
    "\n",
    "    # Iterate over the filenames and labels\n",
    "    for filename, label in zip(filenames, labels):\n",
    "        # Read the raw data\n",
    "        filename='../datasets/BCICIV_2a_gdf/'+filename\n",
    "        raw = mne.io.read_raw_gdf(filename)\n",
    "        \n",
    "        # Convert to DataFrame\n",
    "        df = raw.to_data_frame()\n",
    "        \n",
    "        # Store data array in the dictionary\n",
    "        data_arrays[label] = df.values  # Store the numpy array representation of the DataFrame\n",
    "\n",
    "    # # Access data array for a specific label\n",
    "    # example_label = \"A01T\"\n",
    "    # example_data_array = data_arrays[example_label]    \n",
    "\n",
    "    return data_arrays"
   ]
  },
  {
   "attachments": {},
   "cell_type": "markdown",
   "metadata": {},
   "source": [
    "create training data"
   ]
  },
  {
   "cell_type": "code",
   "execution_count": 17,
   "metadata": {},
   "outputs": [],
   "source": [
    "def create_training_data(data_arrays,events_with_labels_arrays):\n",
    "    labels = [\"A01T\", \"A02T\", \"A03T\",\"A04T\",\"A05T\",\"A06T\",\"A07T\",\"A08T\",\"A09T\"]\n",
    "\n",
    "    X_train=[]\n",
    "\n",
    "    for label in labels:\n",
    "\n",
    "        temp_data=data_arrays[label]\n",
    "        temp_events=events_with_labels_arrays[label]\n",
    "        for i in range(len(temp_events)):\n",
    "        \n",
    "            if temp_events[i,1]==769 or temp_events[i,1]==770 or temp_events[i,1]==771 or temp_events[i,1]==772 :\n",
    "\n",
    "                ev=temp_events[i,1]\n",
    "                position=temp_events[i,0]\n",
    "                for j in range(position, position+1000):\n",
    "\n",
    "                    temp=np.append(temp_data[j,1:23],ev)\n",
    "                    X_train.append(temp)\n",
    "            \n",
    "                \n",
    "                \n"
   ]
  },
  {
   "attachments": {},
   "cell_type": "markdown",
   "metadata": {},
   "source": [
    "see all information in files"
   ]
  },
  {
   "cell_type": "code",
   "execution_count": null,
   "metadata": {},
   "outputs": [],
   "source": [
    "filename = '../datasets/BCICIV_2a_gdf/A02T.gdf'\n",
    "raw = mne.io.read_raw_gdf(filename)\n",
    "\n",
    "# Print basic information about the dataset\n",
    "print(raw.info)\n",
    "\n",
    "# Print channel names\n",
    "print(raw.ch_names)\n",
    "\n",
    "# Print data shape\n",
    "print(raw.get_data().shape)\n",
    "\n",
    "# Print sampling frequency\n",
    "print(raw.info['sfreq'])\n",
    "\n",
    "# Print events\n",
    "events, event_id = mne.events_from_annotations(raw)\n",
    "print(events)\n",
    "\n",
    "# Print event IDs\n",
    "print(event_id)"
   ]
  },
  {
   "attachments": {},
   "cell_type": "markdown",
   "metadata": {},
   "source": [
    "Save data from gdf file to csv"
   ]
  },
  {
   "cell_type": "code",
   "execution_count": null,
   "metadata": {},
   "outputs": [],
   "source": [
    "\n",
    "filenames = [\"A01T.gdf\", \"A01E.gdf\", \"A02T.gdf\", \"A02E.gdf\",\"A03T.gdf\",\"A03E.gdf\",\"A04T.gdf\",\"A04E.gdf\",\"A05T.gdf\",\"A05E.gdf\",\"A06T.gdf\",\"A06E.gdf\",\"A07T.gdf\",\"A07E.gdf\",\"A08T.gdf\",\"A08E.gdf\",\"A09T.gdf\",\"A09E.gdf\"]\n",
    "labels = [\"A01T\", \"A01E\", \"A02T\", \"A02E\",\"A03T\",\"A03E\",\"A04T\",\"A04E\",\"A05T\",\"A05E\",\"A06T\",\"A06E\",\"A07T\",\"A07E\",\"A08T\",\"A08E\",\"A09T\",\"A09E\"]\n",
    "\n",
    "# Iterate over the filenames and labels\n",
    "for filename, label in zip(filenames, labels):\n",
    "    # Read the raw data\n",
    "    filename='../datasets/BCICIV_2a_gdf/'+filename\n",
    "    raw = mne.io.read_raw_gdf(filename)\n",
    "    \n",
    "    # Convert to DataFrame\n",
    "    df = raw.to_data_frame()\n",
    "    \n",
    "    # Save to CSV\n",
    "    df.to_csv('excel/'+label + '.csv', index=False)\n"
   ]
  }
 ],
 "metadata": {
  "kernelspec": {
   "display_name": "okernel",
   "language": "python",
   "name": "okernel"
  },
  "language_info": {
   "codemirror_mode": {
    "name": "ipython",
    "version": 3
   },
   "file_extension": ".py",
   "mimetype": "text/x-python",
   "name": "python",
   "nbconvert_exporter": "python",
   "pygments_lexer": "ipython3",
   "version": "3.8.0"
  },
  "orig_nbformat": 4
 },
 "nbformat": 4,
 "nbformat_minor": 2
}

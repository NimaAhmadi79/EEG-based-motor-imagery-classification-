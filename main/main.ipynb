{
 "cells": [
  {
   "cell_type": "code",
   "execution_count": 2,
   "metadata": {},
   "outputs": [],
   "source": [
    "import tensorflow as tf\n",
    "import os\n",
    "import keras\n",
    "import numpy as np\n",
    "import easygdf\n",
    "import mne\n",
    "import json\n",
    "import pandas as pd\n",
    "from sklearn.metrics import accuracy_score, f1_score\n",
    "from tensorflow.keras.models import Model\n",
    "from tensorflow.keras.layers import Input, Conv1D, BatchNormalization, Activation, MaxPooling1D, Dropout, Flatten\n",
    "from tensorflow.keras import layers, models\n",
    "from tensorflow.keras.regularizers import l2\n",
    "from tensorflow.keras.callbacks import ModelCheckpoint, EarlyStopping\n",
    "import get_data\n",
    "from sklearn.model_selection import train_test_split\n",
    "from colabcode import ColabCode\n",
    "import matplotlib.pyplot as plt\n",
    "from sklearn.preprocessing import MinMaxScaler"
   ]
  },
  {
   "attachments": {},
   "cell_type": "markdown",
   "metadata": {},
   "source": [
    "The network"
   ]
  },
  {
   "cell_type": "code",
   "execution_count": null,
   "metadata": {},
   "outputs": [],
   "source": [
    "# Define the squeeze excitation block function\n",
    "def squeeze_excitation_block(inputs, r):\n",
    "    filters = inputs.shape[-1]\n",
    "    se = layers.GlobalAveragePooling1D()(inputs)\n",
    "    se = layers.Dense(filters // r, activation='relu')(se)\n",
    "    se = layers.Dense(filters, activation='sigmoid')(se)\n",
    "    se = layers.Reshape((1, filters))(se)\n",
    "    out=inputs * se\n",
    "    return out\n",
    "\n",
    "# def SqueezeAndExcitation(inputs, ratio=8): \n",
    "#     b, _, _, c = inputs.shape \n",
    "#     x = GlobalAveragePooling2D()(inputs) \n",
    "#     x = Dense(c//ratio, activation=\"relu\", use_bias=False)(x) \n",
    "#     x = Dense(c, activation=\"sigmoid\", use_bias=False)(x) \n",
    "#     x = inputs * x \n",
    "#     return x \n",
    "\n",
    "# Set random seed for reproducibility\n",
    "tf.random.set_seed(1234)\n",
    "\n",
    "# Define input shape\n",
    "input_shape = (1000,22)\n",
    "\n",
    "# Define input layers for each branch\n",
    "input_1 = tf.keras.Input(shape=input_shape)\n",
    "input_2 = tf.keras.Input(shape=input_shape)\n",
    "input_3 = tf.keras.Input(shape=input_shape)\n",
    "\n",
    "# First Branch\n",
    "x1 = tf.keras.layers.Conv1D(32, 20, strides=2, padding='same', kernel_regularizer=l2(0.01))(input_1)\n",
    "x1 = tf.keras.layers.BatchNormalization()(x1)\n",
    "x1 = tf.keras.layers.ELU()(x1)\n",
    "x1 = squeeze_excitation_block(x1, r=8)\n",
    "x1 = tf.keras.layers.MaxPooling1D()(x1)\n",
    "\n",
    "\n",
    "\n",
    "x1 = tf.keras.layers.Conv1D(32, 9, strides=2, padding='same', kernel_regularizer=l2(0.01))(x1)\n",
    "x1 = tf.keras.layers.BatchNormalization()(x1)\n",
    "x1 = tf.keras.layers.ELU()(x1)\n",
    "x1 = squeeze_excitation_block(x1, r=8)\n",
    "x1 = tf.keras.layers.MaxPooling1D()(x1)\n",
    "skip_connection1 = x1 ############\n",
    "\n",
    "x1 = tf.keras.layers.Conv1D(32, 5, strides=1, padding='same', kernel_regularizer=l2(0.01))(x1)\n",
    "x1 = tf.keras.layers.BatchNormalization()(x1)\n",
    "x1 = tf.keras.layers.ELU()(x1)\n",
    "\n",
    "x1 = tf.keras.layers.Conv1D(32, 5, strides=1, padding='same', kernel_regularizer=l2(0.01))(x1)\n",
    "x1 = tf.keras.layers.BatchNormalization()(x1)\n",
    "x1 = tf.keras.layers.ELU()(x1)\n",
    "x1 = squeeze_excitation_block(x1, r=8)\n",
    "x1 = tf.keras.layers.add([x1, skip_connection1])############\n",
    "x1 = tf.keras.layers.MaxPooling1D()(x1)\n",
    "skip_connection2 = x1 ############\n",
    "\n",
    "x1 = tf.keras.layers.Conv1D(32, 3, strides=1, padding='same', kernel_regularizer=l2(0.01))(x1)\n",
    "x1 = tf.keras.layers.BatchNormalization()(x1)\n",
    "x1 = tf.keras.layers.ELU()(x1)\n",
    "\n",
    "x1 = tf.keras.layers.Conv1D(32, 3, strides=1, padding='same', kernel_regularizer=l2(0.01))(x1)\n",
    "x1 = tf.keras.layers.BatchNormalization()(x1)\n",
    "x1 = tf.keras.layers.ELU()(x1)\n",
    "x1 = squeeze_excitation_block(x1, r=8)\n",
    "x1 = tf.keras.layers.add([x1, skip_connection2])############\n",
    "x1 = tf.keras.layers.MaxPooling1D()(x1)\n",
    "x1 = tf.keras.layers.Dropout(0.5)(x1)\n",
    "\n",
    "x1 = tf.keras.layers.Flatten()(x1)\n",
    "\n",
    "# Second Branch\n",
    "x2 = tf.keras.layers.Conv1D(32, 13, strides=2, padding='same', kernel_regularizer=l2(0.01))(input_2)\n",
    "x2 = tf.keras.layers.BatchNormalization()(x2)\n",
    "x2 = tf.keras.layers.ELU()(x2)\n",
    "x2 = squeeze_excitation_block(x2, r=8)\n",
    "\n",
    "x2 = tf.keras.layers.Conv1D(32, 7, strides=2, padding='same', kernel_regularizer=l2(0.01))(x2)\n",
    "x2 = tf.keras.layers.BatchNormalization()(x2)\n",
    "x2 = tf.keras.layers.ELU()(x2)\n",
    "x2 = squeeze_excitation_block(x2, r=8)\n",
    "x2 = tf.keras.layers.MaxPooling1D()(x2)\n",
    "\n",
    "x2 = tf.keras.layers.Conv1D(32, 5, strides=1, padding='same', kernel_regularizer=l2(0.01))(x2)\n",
    "x2 = tf.keras.layers.BatchNormalization()(x2)\n",
    "x2 = tf.keras.layers.ELU()(x2)\n",
    "x2 = squeeze_excitation_block(x2, r=8)\n",
    "x2 = tf.keras.layers.MaxPooling1D()(x2)\n",
    "skip_connection3 = x2\n",
    "\n",
    "x2 = tf.keras.layers.Conv1D(32, 3, strides=1, padding='same', kernel_regularizer=l2(0.01))(x2)\n",
    "x2 = tf.keras.layers.BatchNormalization()(x2)\n",
    "x2 = tf.keras.layers.ELU()(x2)\n",
    "\n",
    "x2 = tf.keras.layers.Conv1D(32, 3, strides=1, padding='same', kernel_regularizer=l2(0.01))(x2)\n",
    "x2 = tf.keras.layers.BatchNormalization()(x2)\n",
    "x2 = tf.keras.layers.ELU()(x2)\n",
    "x2 = squeeze_excitation_block(x2, r=8)\n",
    "x2 = tf.keras.layers.add([x2, skip_connection3])############\n",
    "x2 = tf.keras.layers.MaxPooling1D()(x2)\n",
    "\n",
    "x2 = tf.keras.layers.Dropout(0.5)(x2)\n",
    "\n",
    "x2 = tf.keras.layers.Flatten()(x2)\n",
    "\n",
    "# Third Branch\n",
    "x3 = tf.keras.layers.Conv1D(32, 15, strides=2, padding='same', kernel_regularizer=l2(0.01))(input_3)\n",
    "x3 = tf.keras.layers.BatchNormalization()(x3)\n",
    "x3 = tf.keras.layers.ELU()(x3)\n",
    "x3 = squeeze_excitation_block(x3, r=8)\n",
    "x3 = tf.keras.layers.MaxPooling1D()(x3)\n",
    "\n",
    "x3 = tf.keras.layers.Conv1D(32, 10, strides=2, padding='same', kernel_regularizer=l2(0.01))(x3)\n",
    "x3 = tf.keras.layers.BatchNormalization()(x3)\n",
    "x3 = tf.keras.layers.ELU()(x3)\n",
    "x3 = squeeze_excitation_block(x3, r=8)\n",
    "\n",
    "x3 = tf.keras.layers.Conv1D(32, 5, strides=1, padding='same', kernel_regularizer=l2(0.01))(x3)\n",
    "x3 = tf.keras.layers.BatchNormalization()(x3)\n",
    "x3 = tf.keras.layers.ELU()(x3)\n",
    "x3 = squeeze_excitation_block(x3, r=8)\n",
    "x3 = tf.keras.layers.MaxPooling1D()(x3)\n",
    "\n",
    "x3 = tf.keras.layers.Conv1D(48, 3, strides=1, padding='same', kernel_regularizer=l2(0.01))(x3)\n",
    "x3 = tf.keras.layers.BatchNormalization()(x3)\n",
    "x3 = tf.keras.layers.ELU()(x3)\n",
    "x3 = squeeze_excitation_block(x3, r=8)\n",
    "x3 = tf.keras.layers.MaxPooling1D()(x3)\n",
    "\n",
    "x3 = tf.keras.layers.Dropout(0.5)(x3)\n",
    "\n",
    "x3 = tf.keras.layers.Flatten()(x3)\n",
    "\n",
    "# Concatenate the outputs of three branches\n",
    "merged = tf.keras.layers.concatenate([x1, x2, x3])\n",
    "\n",
    "\n",
    "\n",
    "\n",
    "#fc1 = tf.keras.layers.Dense(128, activation='relu',kernel_regularizer=tf.keras.regularizers.l2(0.001))(merged)\n",
    "#fc2 = tf.keras.layers.Dense(64, activation='relu',kernel_regularizer=tf.keras.regularizers.l2(0.001))(fc1)\n",
    "\n",
    "# Dropout layer\n",
    "x = tf.keras.layers.Dropout(0.5)(merged)\n",
    "\n",
    "# # Flatten layer\n",
    "# x = layers.Flatten()(x)\n",
    "\n",
    "# # Dense layer\n",
    "# x = layers.Dense(64, activation='relu')(x)\n",
    "\n",
    "# Output layer\n",
    "output = tf.keras.layers.Dense(4, activation='softmax')(x)\n",
    "\n",
    "# Create model\n",
    "model = Model(inputs=[input_1, input_2, input_3], outputs=output)\n",
    "\n",
    "# Compile model\n",
    "optimizer = tf.keras.optimizers.Adam(learning_rate=0.0005)\n",
    "model.compile(optimizer=optimizer, loss='sparse_categorical_crossentropy', metrics=['accuracy'])\n",
    "\n",
    "# Print model summary\n",
    "model.summary()"
   ]
  },
  {
   "attachments": {},
   "cell_type": "markdown",
   "metadata": {},
   "source": [
    "Get events and their positions and also get eeg data "
   ]
  },
  {
   "cell_type": "code",
   "execution_count": null,
   "metadata": {},
   "outputs": [],
   "source": [
    "events_with_labels_arrays=get_data.event_position()\n",
    "\n",
    "data_arrays=get_data.save_data_in_array()\n"
   ]
  },
  {
   "cell_type": "code",
   "execution_count": 29,
   "metadata": {},
   "outputs": [],
   "source": [
    "def create_training_data(data_arrays,events_with_labels_arrays):\n",
    "    labels = [\"A01T\",\"A02T\", \"A03T\",\"A04T\",\"A05T\",\"A06T\",\"A07T\",\"A08T\",\"A09T\"]\n",
    "\n",
    "    train_data=[]\n",
    "\n",
    "    for label in labels:\n",
    "\n",
    "        temp_data=data_arrays[label]\n",
    "        temp_events=events_with_labels_arrays[label]\n",
    "        for i in range(len(temp_events)):\n",
    "        \n",
    "            if temp_events[i,1]==769 or temp_events[i,1]==770 or temp_events[i,1]==771 or temp_events[i,1]==772 :\n",
    "\n",
    "                ev=temp_events[i,1]\n",
    "                position=temp_events[i,0]\n",
    "                # nth_sample=[]\n",
    "                # for j in range(position, position+1000):\n",
    "                #     if j==position+999:\n",
    "                #         for k in range(1,23):\n",
    "                #             nth_sample.append(temp_data[j,k])\n",
    "\n",
    "                #         nth_sample.append(ev)    \n",
    "                #         break\n",
    "                #     for k in range(1,23):\n",
    "                #         nth_sample.append(temp_data[j,k])\n",
    "                sample=temp_data[position:position+1000,1:23]\n",
    "\n",
    "                train_data.append((sample,ev))\n",
    "\n",
    "    return train_data        "
   ]
  },
  {
   "attachments": {},
   "cell_type": "markdown",
   "metadata": {},
   "source": [
    "create train data"
   ]
  },
  {
   "cell_type": "code",
   "execution_count": 30,
   "metadata": {},
   "outputs": [],
   "source": [
    "\n",
    "#add label for each row as last column\n",
    "train_data=create_training_data(data_arrays,events_with_labels_arrays)\n"
   ]
  },
  {
   "cell_type": "code",
   "execution_count": 31,
   "metadata": {},
   "outputs": [],
   "source": [
    "X, Y = zip(*train_data)\n",
    "X=np.array(X)\n",
    "Y=np.array(Y)\n",
    "\n",
    "Y = Y.reshape(-1, 1)"
   ]
  },
  {
   "attachments": {},
   "cell_type": "markdown",
   "metadata": {},
   "source": [
    "do interpolation"
   ]
  },
  {
   "cell_type": "code",
   "execution_count": 32,
   "metadata": {},
   "outputs": [],
   "source": [
    "from scipy.interpolate import interp1d\n",
    "\n",
    "# Create an empty array to store the interpolated data\n",
    "final_interpolated_data = np.zeros((X.shape[0], 1050, X.shape[2]))\n",
    "\n",
    "# Perform interpolation for each sample separately\n",
    "for sample_idx in range(X.shape[0]):\n",
    "    # Get the EEG data for the current sample\n",
    "    sample_data = X[sample_idx, :, :]\n",
    "\n",
    "    # Create an empty array to store the interpolated sample data\n",
    "    interpolated_sample_data = np.zeros((1050, X.shape[2]))\n",
    "\n",
    "    # Perform interpolation for each channel separately\n",
    "    for channel in range(X.shape[2]):\n",
    "        # Get the EEG data for the current channel\n",
    "        channel_data = sample_data[:, channel]\n",
    "\n",
    "        # Create an interpolation function for the current channel\n",
    "        interp_func = interp1d(np.arange(1000), channel_data, kind='linear')\n",
    "\n",
    "        # Interpolate the data to increase the number of samples to 1050\n",
    "        interpolated_channel_data = interp_func(np.linspace(0, 999, 1050))\n",
    "\n",
    "        # Store the interpolated data for the current channel\n",
    "        interpolated_sample_data[:, channel] = interpolated_channel_data\n",
    "\n",
    "    # Assign the interpolated sample data to the final array\n",
    "    final_interpolated_data[sample_idx, :, :] = interpolated_sample_data\n"
   ]
  },
  {
   "attachments": {},
   "cell_type": "markdown",
   "metadata": {},
   "source": [
    "do cropping"
   ]
  },
  {
   "cell_type": "code",
   "execution_count": 33,
   "metadata": {},
   "outputs": [],
   "source": [
    "# Initialize empty lists to store cropped segments and corresponding labels\n",
    "cropped_segments = []\n",
    "segment_labels = []\n",
    "\n",
    "# Iterate over each sample\n",
    "for sample_idx in range(final_interpolated_data.shape[0]):\n",
    "    # Get the EEG data for the current sample\n",
    "    sample_data = final_interpolated_data[sample_idx, :, :]\n",
    "    # Get the labels for the current sample\n",
    "    sample_labels = Y[sample_idx]\n",
    "    # Calculate the number of segments\n",
    "    num_segments = (sample_data.shape[0] - 1000) // 10 + 1\n",
    "    # Iterate over each segment\n",
    "    for segment_idx in range(num_segments):\n",
    "        # Calculate start index of the segment\n",
    "        start_idx = segment_idx * 10\n",
    "        # Extract the segment\n",
    "        segment = sample_data[start_idx:start_idx + 1000, :]\n",
    "        # Append the segment to the list of cropped segments\n",
    "        cropped_segments.append(segment)\n",
    "        # Extract the label for the segment\n",
    "        segment_label = sample_labels\n",
    "        # Append the label to the list of segment labels\n",
    "        segment_labels.append(segment_label)\n",
    "\n",
    "# Convert the lists to numpy arrays\n",
    "cropped_segments = np.array(cropped_segments)\n",
    "segment_labels = np.array(segment_labels)"
   ]
  },
  {
   "attachments": {},
   "cell_type": "markdown",
   "metadata": {},
   "source": [
    "concatenating"
   ]
  },
  {
   "cell_type": "code",
   "execution_count": 34,
   "metadata": {},
   "outputs": [],
   "source": [
    "X = np.concatenate((X, cropped_segments), axis=0)\n",
    "Y = np.concatenate((Y, segment_labels), axis=0)"
   ]
  },
  {
   "cell_type": "code",
   "execution_count": 35,
   "metadata": {},
   "outputs": [
    {
     "name": "stdout",
     "output_type": "stream",
     "text": [
      "nima\n"
     ]
    }
   ],
   "source": [
    "print(\"nima\")"
   ]
  },
  {
   "attachments": {},
   "cell_type": "markdown",
   "metadata": {},
   "source": [
    "create X and Y"
   ]
  },
  {
   "cell_type": "code",
   "execution_count": 76,
   "metadata": {},
   "outputs": [],
   "source": [
    "\n",
    "#convert train_data to np array\n",
    "# train_data = np.array(train_data)\n",
    "\n",
    "# #Separate features (X) and labels (y)\n",
    "# X = train_data[:, :-1]  # Extract all rows and all columns except the last one\n",
    "# Y = train_data[:, -1]   # Extract all rows and only the last column\n",
    "\n",
    "# #reshape Y to 2d array\n",
    "# Y = Y.reshape(-1, 1)\n"
   ]
  },
  {
   "attachments": {},
   "cell_type": "markdown",
   "metadata": {},
   "source": [
    "Match each events to 0-3 class"
   ]
  },
  {
   "cell_type": "code",
   "execution_count": 17,
   "metadata": {},
   "outputs": [],
   "source": [
    "for i in range(len(Y)):\n",
    "    if Y[i]==769:\n",
    "        Y[i]=0\n",
    "    elif Y[i]==770:\n",
    "        Y[i]=1\n",
    "    elif Y[i]==771:\n",
    "        Y[i]=2    \n",
    "    elif Y[i]==772:\n",
    "        Y[i]=3    \n",
    "    "
   ]
  },
  {
   "attachments": {},
   "cell_type": "markdown",
   "metadata": {},
   "source": [
    "Shuffle X and Y train"
   ]
  },
  {
   "cell_type": "code",
   "execution_count": 18,
   "metadata": {},
   "outputs": [],
   "source": [
    "#Generate shuffled indices\n",
    "indices = np.arange(len(X))\n",
    "np.random.shuffle(indices)\n",
    "\n",
    "# Shuffle x_train and y_train using the shuffled indices\n",
    "X = X[indices]\n",
    "Y = Y[indices]\n",
    "\n"
   ]
  },
  {
   "attachments": {},
   "cell_type": "markdown",
   "metadata": {},
   "source": [
    "Split data to test and train"
   ]
  },
  {
   "cell_type": "code",
   "execution_count": 19,
   "metadata": {},
   "outputs": [],
   "source": [
    "x_train, x_ , y_train, y_ =train_test_split(X, Y, test_size=0.20, random_state=1)\n",
    "\n",
    "x_cv, x_test, y_cv, y_test =train_test_split(x_, y_, test_size=0.50, random_state=1)\n",
    "\n",
    "# del x_ ,y_"
   ]
  },
  {
   "attachments": {},
   "cell_type": "markdown",
   "metadata": {},
   "source": [
    "define early stop class and function"
   ]
  },
  {
   "cell_type": "code",
   "execution_count": 24,
   "metadata": {},
   "outputs": [],
   "source": [
    "from keras.callbacks import Callback\n",
    "\n",
    "class EarlyStopAtAccuracy(Callback):\n",
    "    def __init__(self, monitor='val_accuracy', target_accuracy=0.93, patience=0, verbose=0, mode='auto'):\n",
    "        super(EarlyStopAtAccuracy, self).__init__()\n",
    "        self.monitor = monitor\n",
    "        self.target_accuracy = target_accuracy\n",
    "        self.patience = patience\n",
    "        self.verbose = verbose\n",
    "        self.wait = 0\n",
    "        self.stopped_epoch = 0\n",
    "        self.mode = mode\n",
    "        if mode == 'auto':\n",
    "            if 'acc' in self.monitor:\n",
    "                self.mode = 'max'\n",
    "            else:\n",
    "                self.mode = 'min'\n",
    "\n",
    "    def on_epoch_end(self, epoch, logs=None):\n",
    "        current_accuracy = logs.get(self.monitor)\n",
    "        if current_accuracy is None:\n",
    "            print(\"Early stopping requires %s available!\" % self.monitor, 'WARNING')\n",
    "            return\n",
    "\n",
    "        if self.mode == 'max':\n",
    "            improvement = (current_accuracy - self.target_accuracy) / self.target_accuracy\n",
    "        else:\n",
    "            improvement = (self.target_accuracy - current_accuracy) / self.target_accuracy\n",
    "\n",
    "        if improvement >= 0:\n",
    "            self.wait += 1\n",
    "            if self.wait >= self.patience:\n",
    "                self.stopped_epoch = epoch\n",
    "                self.model.stop_training = True\n",
    "                if self.verbose > 0:\n",
    "                    print('Epoch %05d: early stopping at accuracy %.2f' % (epoch, self.target_accuracy))\n",
    "        else:\n",
    "            self.wait = 0\n",
    "\n"
   ]
  },
  {
   "attachments": {},
   "cell_type": "markdown",
   "metadata": {},
   "source": [
    "Train the model"
   ]
  },
  {
   "cell_type": "code",
   "execution_count": 26,
   "metadata": {},
   "outputs": [
    {
     "name": "stdout",
     "output_type": "stream",
     "text": [
      "Epoch 1/54\n",
      "208/208 [==============================] - 75s 252ms/step - loss: 6.0058 - accuracy: 0.3111 - val_loss: 4.7842 - val_accuracy: 0.4807\n",
      "Epoch 2/54\n",
      "208/208 [==============================] - 48s 233ms/step - loss: 4.3139 - accuracy: 0.4705 - val_loss: 3.5518 - val_accuracy: 0.5766\n",
      "Epoch 3/54\n",
      "208/208 [==============================] - 45s 217ms/step - loss: 3.1703 - accuracy: 0.5512 - val_loss: 2.6087 - val_accuracy: 0.6499\n",
      "Epoch 4/54\n",
      "208/208 [==============================] - 47s 228ms/step - loss: 2.3502 - accuracy: 0.6245 - val_loss: 1.9656 - val_accuracy: 0.6907\n",
      "Epoch 5/54\n",
      "208/208 [==============================] - 48s 232ms/step - loss: 1.7940 - accuracy: 0.6732 - val_loss: 1.5547 - val_accuracy: 0.7216\n",
      "Epoch 6/54\n",
      "208/208 [==============================] - 43s 207ms/step - loss: 1.4337 - accuracy: 0.7121 - val_loss: 1.2501 - val_accuracy: 0.7596\n",
      "Epoch 7/54\n",
      "208/208 [==============================] - 43s 209ms/step - loss: 1.1968 - accuracy: 0.7417 - val_loss: 1.1755 - val_accuracy: 0.7073\n",
      "Epoch 8/54\n",
      "208/208 [==============================] - 45s 217ms/step - loss: 1.0560 - accuracy: 0.7501 - val_loss: 0.9895 - val_accuracy: 0.7806\n",
      "Epoch 9/54\n",
      "208/208 [==============================] - 50s 239ms/step - loss: 0.9430 - accuracy: 0.7721 - val_loss: 0.9926 - val_accuracy: 0.7519\n",
      "Epoch 10/54\n",
      "208/208 [==============================] - 48s 231ms/step - loss: 0.8769 - accuracy: 0.7826 - val_loss: 0.8439 - val_accuracy: 0.7872\n",
      "Epoch 11/54\n",
      "208/208 [==============================] - 50s 240ms/step - loss: 0.8137 - accuracy: 0.7968 - val_loss: 0.8046 - val_accuracy: 0.7922\n",
      "Epoch 12/54\n",
      "208/208 [==============================] - 50s 242ms/step - loss: 0.7700 - accuracy: 0.8061 - val_loss: 0.9217 - val_accuracy: 0.7326\n",
      "Epoch 13/54\n",
      "208/208 [==============================] - 50s 240ms/step - loss: 0.7337 - accuracy: 0.8132 - val_loss: 0.8493 - val_accuracy: 0.7619\n",
      "Epoch 14/54\n",
      "208/208 [==============================] - 50s 240ms/step - loss: 0.6977 - accuracy: 0.8238 - val_loss: 0.6455 - val_accuracy: 0.8490\n",
      "Epoch 15/54\n",
      "208/208 [==============================] - 55s 263ms/step - loss: 0.6640 - accuracy: 0.8337 - val_loss: 0.6989 - val_accuracy: 0.8258\n",
      "Epoch 16/54\n",
      "208/208 [==============================] - 52s 252ms/step - loss: 0.6409 - accuracy: 0.8395 - val_loss: 0.7870 - val_accuracy: 0.7751\n",
      "Epoch 17/54\n",
      "208/208 [==============================] - 52s 250ms/step - loss: 0.6118 - accuracy: 0.8499 - val_loss: 0.6218 - val_accuracy: 0.8578\n",
      "Epoch 18/54\n",
      "208/208 [==============================] - 53s 253ms/step - loss: 0.6011 - accuracy: 0.8553 - val_loss: 0.5501 - val_accuracy: 0.8804\n",
      "Epoch 19/54\n",
      "208/208 [==============================] - 51s 244ms/step - loss: 0.5759 - accuracy: 0.8611 - val_loss: 0.7668 - val_accuracy: 0.7883\n",
      "Epoch 20/54\n",
      "208/208 [==============================] - 49s 234ms/step - loss: 0.5597 - accuracy: 0.8689 - val_loss: 0.5372 - val_accuracy: 0.8826\n",
      "Epoch 21/54\n",
      "208/208 [==============================] - 50s 242ms/step - loss: 0.5487 - accuracy: 0.8736 - val_loss: 0.6474 - val_accuracy: 0.8319\n",
      "Epoch 22/54\n",
      "208/208 [==============================] - 44s 213ms/step - loss: 0.5468 - accuracy: 0.8770 - val_loss: 0.4863 - val_accuracy: 0.9013\n",
      "Epoch 23/54\n",
      "208/208 [==============================] - 45s 214ms/step - loss: 0.5128 - accuracy: 0.8845 - val_loss: 0.5558 - val_accuracy: 0.8710\n",
      "Epoch 24/54\n",
      "208/208 [==============================] - 44s 210ms/step - loss: 0.5202 - accuracy: 0.8834 - val_loss: 0.4804 - val_accuracy: 0.9030\n",
      "Epoch 25/54\n",
      "208/208 [==============================] - 55s 263ms/step - loss: 0.5138 - accuracy: 0.8836 - val_loss: 0.5185 - val_accuracy: 0.8848\n",
      "Epoch 26/54\n",
      "208/208 [==============================] - 51s 246ms/step - loss: 0.4835 - accuracy: 0.8961 - val_loss: 0.5972 - val_accuracy: 0.8534\n",
      "Epoch 27/54\n",
      "208/208 [==============================] - 50s 240ms/step - loss: 0.4877 - accuracy: 0.8953 - val_loss: 1.1142 - val_accuracy: 0.7205\n",
      "Epoch 28/54\n",
      "208/208 [==============================] - 49s 236ms/step - loss: 0.4818 - accuracy: 0.8986 - val_loss: 0.6464 - val_accuracy: 0.8319\n",
      "Epoch 29/54\n",
      "208/208 [==============================] - 51s 244ms/step - loss: 0.4815 - accuracy: 0.8990 - val_loss: 0.6884 - val_accuracy: 0.8252\n",
      "Epoch 30/54\n",
      "208/208 [==============================] - 46s 223ms/step - loss: 0.4883 - accuracy: 0.8966 - val_loss: 0.5410 - val_accuracy: 0.8776\n",
      "Epoch 31/54\n",
      "208/208 [==============================] - 44s 212ms/step - loss: 0.4536 - accuracy: 0.9092 - val_loss: 0.5214 - val_accuracy: 0.8826\n",
      "Epoch 32/54\n",
      "208/208 [==============================] - 44s 210ms/step - loss: 0.4570 - accuracy: 0.9071 - val_loss: 0.8221 - val_accuracy: 0.8082\n",
      "Epoch 33/54\n",
      "208/208 [==============================] - 44s 211ms/step - loss: 0.4573 - accuracy: 0.9081 - val_loss: 0.5562 - val_accuracy: 0.8638\n",
      "Epoch 34/54\n",
      "208/208 [==============================] - 43s 209ms/step - loss: 0.4364 - accuracy: 0.9164 - val_loss: 0.6709 - val_accuracy: 0.8379\n",
      "Epoch 35/54\n",
      "208/208 [==============================] - 48s 230ms/step - loss: 0.4602 - accuracy: 0.9086 - val_loss: 0.6198 - val_accuracy: 0.8528\n",
      "Epoch 36/54\n",
      "208/208 [==============================] - 51s 245ms/step - loss: 0.4313 - accuracy: 0.9173 - val_loss: 0.5418 - val_accuracy: 0.8688\n",
      "Epoch 37/54\n",
      "208/208 [==============================] - 50s 240ms/step - loss: 0.4304 - accuracy: 0.9182 - val_loss: 0.6159 - val_accuracy: 0.8385\n",
      "Epoch 38/54\n",
      "208/208 [==============================] - 50s 241ms/step - loss: 0.4328 - accuracy: 0.9155 - val_loss: 0.8273 - val_accuracy: 0.7839\n",
      "Epoch 39/54\n",
      "208/208 [==============================] - ETA: 0s - loss: 0.4111 - accuracy: 0.9246Epoch 00038: early stopping at accuracy 0.93\n",
      "208/208 [==============================] - 50s 239ms/step - loss: 0.4111 - accuracy: 0.9246 - val_loss: 0.3976 - val_accuracy: 0.9333\n"
     ]
    },
    {
     "data": {
      "image/png": "[encoded data removed]",
      "text/plain": [
       "<Figure size 640x480 with 1 Axes>"
      ]
     },
     "metadata": {},
     "output_type": "display_data"
    },
    {
     "data": {
      "image/png": "[encoded data removed]",
      "text/plain": [
       "<Figure size 640x480 with 1 Axes>"
      ]
     },
     "metadata": {},
     "output_type": "display_data"
    }
   ],
   "source": [
    "checkpoint = ModelCheckpoint(\"model_checkpoint.h5\", monitor='val_loss', verbose=1, save_best_only=True, mode='min')\n",
    "#early_stopping = EarlyStopping(monitor='val_loss', patience=5, verbose=1, restore_best_weights=True)\n",
    "early_stopping = EarlyStopAtAccuracy(monitor='val_accuracy', target_accuracy=0.93, patience=0, verbose=1, mode='max')\n",
    "\n",
    "# Train the model\n",
    "history = model.fit(\n",
    "    [x_train, x_train, x_train], y_train,\n",
    "    epochs=54,\n",
    "    batch_size=70,\n",
    "    validation_data=([x_cv, x_cv, x_cv], y_cv),\n",
    "    callbacks=[early_stopping]\n",
    ")\n",
    "\n",
    "# Plot training and validation loss\n",
    "plt.plot(history.history['loss'], label='Training Loss')\n",
    "plt.plot(history.history['val_loss'], label='Validation Loss')\n",
    "plt.title('Training and Validation Loss')\n",
    "plt.xlabel('Epoch')\n",
    "plt.ylabel('Loss')\n",
    "plt.legend()\n",
    "plt.show()\n",
    "\n",
    "# Plot training and validation accuracy\n",
    "plt.plot(history.history['accuracy'], label='Training Accuracy')\n",
    "plt.plot(history.history['val_accuracy'], label='Validation Accuracy')\n",
    "plt.title('Training and Validation Accuracy')\n",
    "plt.xlabel('Epoch')\n",
    "plt.ylabel('Accuracy')\n",
    "plt.legend()\n",
    "plt.show()"
   ]
  },
  {
   "cell_type": "code",
   "execution_count": 27,
   "metadata": {},
   "outputs": [
    {
     "name": "stdout",
     "output_type": "stream",
     "text": [
      "57/57 [==============================] - 3s 22ms/step\n",
      "Test Loss: 0.417237788438797\n",
      "Test Accuracy: 0.9217630624771118\n",
      "Test F1 Score: 0.9218237788183593\n"
     ]
    }
   ],
   "source": [
    "# Evaluate the model on the test set\n",
    "test_loss, test_accuracy = model.evaluate([x_test, x_test, x_test], y_test, verbose=0)\n",
    "\n",
    "# Predict labels for the test set\n",
    "y_pred = model.predict([x_test, x_test, x_test])\n",
    "\n",
    "# Convert predicted probabilities to labels\n",
    "y_pred_labels = np.argmax(y_pred, axis=1)\n",
    "\n",
    "# Calculate F1 score\n",
    "f1 = f1_score(y_test, y_pred_labels, average='weighted')\n",
    "\n",
    "print(f'Test Loss: {test_loss}')\n",
    "print(f'Test Accuracy: {test_accuracy}')\n",
    "print(f'Test F1 Score: {f1}')"
   ]
  },
  {
   "cell_type": "code",
   "execution_count": 70,
   "metadata": {},
   "outputs": [
    {
     "name": "stdout",
     "output_type": "stream",
     "text": [
      "Epoch 1/100\n",
      " 59/184 [========>.....................] - ETA: 14s - loss: 4.2015 - accuracy: 0.7119"
     ]
    },
    {
     "ename": "KeyboardInterrupt",
     "evalue": "",
     "output_type": "error",
     "traceback": [
      "\u001b[1;31m---------------------------------------------------------------------------\u001b[0m",
      "\u001b[1;31mKeyboardInterrupt\u001b[0m                         Traceback (most recent call last)",
      "Cell \u001b[1;32mIn[70], line 2\u001b[0m\n\u001b[0;32m      1\u001b[0m \u001b[39m# Train the model\u001b[39;00m\n\u001b[1;32m----> 2\u001b[0m history\u001b[39m=\u001b[39mmodel\u001b[39m.\u001b[39;49mfit([x_train, x_train, x_train], y_train, epochs\u001b[39m=\u001b[39;49m\u001b[39m100\u001b[39;49m, batch_size\u001b[39m=\u001b[39;49m\u001b[39m2\u001b[39;49m, validation_split\u001b[39m=\u001b[39;49m\u001b[39m0.2\u001b[39;49m)\n\u001b[0;32m      4\u001b[0m \u001b[39m# Plot the training loss\u001b[39;00m\n\u001b[0;32m      5\u001b[0m plt\u001b[39m.\u001b[39mplot(history\u001b[39m.\u001b[39mhistory[\u001b[39m'\u001b[39m\u001b[39mloss\u001b[39m\u001b[39m'\u001b[39m], label\u001b[39m=\u001b[39m\u001b[39m'\u001b[39m\u001b[39mTraining Loss\u001b[39m\u001b[39m'\u001b[39m)\n",
      "File \u001b[1;32md:\\OCR\\okernel\\lib\\site-packages\\keras\\src\\utils\\traceback_utils.py:65\u001b[0m, in \u001b[0;36mfilter_traceback.<locals>.error_handler\u001b[1;34m(*args, **kwargs)\u001b[0m\n\u001b[0;32m     63\u001b[0m filtered_tb \u001b[39m=\u001b[39m \u001b[39mNone\u001b[39;00m\n\u001b[0;32m     64\u001b[0m \u001b[39mtry\u001b[39;00m:\n\u001b[1;32m---> 65\u001b[0m     \u001b[39mreturn\u001b[39;00m fn(\u001b[39m*\u001b[39;49margs, \u001b[39m*\u001b[39;49m\u001b[39m*\u001b[39;49mkwargs)\n\u001b[0;32m     66\u001b[0m \u001b[39mexcept\u001b[39;00m \u001b[39mException\u001b[39;00m \u001b[39mas\u001b[39;00m e:\n\u001b[0;32m     67\u001b[0m     filtered_tb \u001b[39m=\u001b[39m _process_traceback_frames(e\u001b[39m.\u001b[39m__traceback__)\n",
      "File \u001b[1;32md:\\OCR\\okernel\\lib\\site-packages\\keras\\src\\engine\\training.py:1742\u001b[0m, in \u001b[0;36mModel.fit\u001b[1;34m(self, x, y, batch_size, epochs, verbose, callbacks, validation_split, validation_data, shuffle, class_weight, sample_weight, initial_epoch, steps_per_epoch, validation_steps, validation_batch_size, validation_freq, max_queue_size, workers, use_multiprocessing)\u001b[0m\n\u001b[0;32m   1734\u001b[0m \u001b[39mwith\u001b[39;00m tf\u001b[39m.\u001b[39mprofiler\u001b[39m.\u001b[39mexperimental\u001b[39m.\u001b[39mTrace(\n\u001b[0;32m   1735\u001b[0m     \u001b[39m\"\u001b[39m\u001b[39mtrain\u001b[39m\u001b[39m\"\u001b[39m,\n\u001b[0;32m   1736\u001b[0m     epoch_num\u001b[39m=\u001b[39mepoch,\n\u001b[1;32m   (...)\u001b[0m\n\u001b[0;32m   1739\u001b[0m     _r\u001b[39m=\u001b[39m\u001b[39m1\u001b[39m,\n\u001b[0;32m   1740\u001b[0m ):\n\u001b[0;32m   1741\u001b[0m     callbacks\u001b[39m.\u001b[39mon_train_batch_begin(step)\n\u001b[1;32m-> 1742\u001b[0m     tmp_logs \u001b[39m=\u001b[39m \u001b[39mself\u001b[39;49m\u001b[39m.\u001b[39;49mtrain_function(iterator)\n\u001b[0;32m   1743\u001b[0m     \u001b[39mif\u001b[39;00m data_handler\u001b[39m.\u001b[39mshould_sync:\n\u001b[0;32m   1744\u001b[0m         context\u001b[39m.\u001b[39masync_wait()\n",
      "File \u001b[1;32md:\\OCR\\okernel\\lib\\site-packages\\tensorflow\\python\\util\\traceback_utils.py:150\u001b[0m, in \u001b[0;36mfilter_traceback.<locals>.error_handler\u001b[1;34m(*args, **kwargs)\u001b[0m\n\u001b[0;32m    148\u001b[0m filtered_tb \u001b[39m=\u001b[39m \u001b[39mNone\u001b[39;00m\n\u001b[0;32m    149\u001b[0m \u001b[39mtry\u001b[39;00m:\n\u001b[1;32m--> 150\u001b[0m   \u001b[39mreturn\u001b[39;00m fn(\u001b[39m*\u001b[39;49margs, \u001b[39m*\u001b[39;49m\u001b[39m*\u001b[39;49mkwargs)\n\u001b[0;32m    151\u001b[0m \u001b[39mexcept\u001b[39;00m \u001b[39mException\u001b[39;00m \u001b[39mas\u001b[39;00m e:\n\u001b[0;32m    152\u001b[0m   filtered_tb \u001b[39m=\u001b[39m _process_traceback_frames(e\u001b[39m.\u001b[39m__traceback__)\n",
      "File \u001b[1;32md:\\OCR\\okernel\\lib\\site-packages\\tensorflow\\python\\eager\\polymorphic_function\\polymorphic_function.py:825\u001b[0m, in \u001b[0;36mFunction.__call__\u001b[1;34m(self, *args, **kwds)\u001b[0m\n\u001b[0;32m    822\u001b[0m compiler \u001b[39m=\u001b[39m \u001b[39m\"\u001b[39m\u001b[39mxla\u001b[39m\u001b[39m\"\u001b[39m \u001b[39mif\u001b[39;00m \u001b[39mself\u001b[39m\u001b[39m.\u001b[39m_jit_compile \u001b[39melse\u001b[39;00m \u001b[39m\"\u001b[39m\u001b[39mnonXla\u001b[39m\u001b[39m\"\u001b[39m\n\u001b[0;32m    824\u001b[0m \u001b[39mwith\u001b[39;00m OptionalXlaContext(\u001b[39mself\u001b[39m\u001b[39m.\u001b[39m_jit_compile):\n\u001b[1;32m--> 825\u001b[0m   result \u001b[39m=\u001b[39m \u001b[39mself\u001b[39;49m\u001b[39m.\u001b[39;49m_call(\u001b[39m*\u001b[39;49margs, \u001b[39m*\u001b[39;49m\u001b[39m*\u001b[39;49mkwds)\n\u001b[0;32m    827\u001b[0m new_tracing_count \u001b[39m=\u001b[39m \u001b[39mself\u001b[39m\u001b[39m.\u001b[39mexperimental_get_tracing_count()\n\u001b[0;32m    828\u001b[0m without_tracing \u001b[39m=\u001b[39m (tracing_count \u001b[39m==\u001b[39m new_tracing_count)\n",
      "File \u001b[1;32md:\\OCR\\okernel\\lib\\site-packages\\tensorflow\\python\\eager\\polymorphic_function\\polymorphic_function.py:857\u001b[0m, in \u001b[0;36mFunction._call\u001b[1;34m(self, *args, **kwds)\u001b[0m\n\u001b[0;32m    854\u001b[0m   \u001b[39mself\u001b[39m\u001b[39m.\u001b[39m_lock\u001b[39m.\u001b[39mrelease()\n\u001b[0;32m    855\u001b[0m   \u001b[39m# In this case we have created variables on the first call, so we run the\u001b[39;00m\n\u001b[0;32m    856\u001b[0m   \u001b[39m# defunned version which is guaranteed to never create variables.\u001b[39;00m\n\u001b[1;32m--> 857\u001b[0m   \u001b[39mreturn\u001b[39;00m \u001b[39mself\u001b[39;49m\u001b[39m.\u001b[39;49m_no_variable_creation_fn(\u001b[39m*\u001b[39;49margs, \u001b[39m*\u001b[39;49m\u001b[39m*\u001b[39;49mkwds)  \u001b[39m# pylint: disable=not-callable\u001b[39;00m\n\u001b[0;32m    858\u001b[0m \u001b[39melif\u001b[39;00m \u001b[39mself\u001b[39m\u001b[39m.\u001b[39m_variable_creation_fn \u001b[39mis\u001b[39;00m \u001b[39mnot\u001b[39;00m \u001b[39mNone\u001b[39;00m:\n\u001b[0;32m    859\u001b[0m   \u001b[39m# Release the lock early so that multiple threads can perform the call\u001b[39;00m\n\u001b[0;32m    860\u001b[0m   \u001b[39m# in parallel.\u001b[39;00m\n\u001b[0;32m    861\u001b[0m   \u001b[39mself\u001b[39m\u001b[39m.\u001b[39m_lock\u001b[39m.\u001b[39mrelease()\n",
      "File \u001b[1;32md:\\OCR\\okernel\\lib\\site-packages\\tensorflow\\python\\eager\\polymorphic_function\\tracing_compiler.py:148\u001b[0m, in \u001b[0;36mTracingCompiler.__call__\u001b[1;34m(self, *args, **kwargs)\u001b[0m\n\u001b[0;32m    145\u001b[0m \u001b[39mwith\u001b[39;00m \u001b[39mself\u001b[39m\u001b[39m.\u001b[39m_lock:\n\u001b[0;32m    146\u001b[0m   (concrete_function,\n\u001b[0;32m    147\u001b[0m    filtered_flat_args) \u001b[39m=\u001b[39m \u001b[39mself\u001b[39m\u001b[39m.\u001b[39m_maybe_define_function(args, kwargs)\n\u001b[1;32m--> 148\u001b[0m \u001b[39mreturn\u001b[39;00m concrete_function\u001b[39m.\u001b[39;49m_call_flat(\n\u001b[0;32m    149\u001b[0m     filtered_flat_args, captured_inputs\u001b[39m=\u001b[39;49mconcrete_function\u001b[39m.\u001b[39;49mcaptured_inputs)\n",
      "File \u001b[1;32md:\\OCR\\okernel\\lib\\site-packages\\tensorflow\\python\\eager\\polymorphic_function\\monomorphic_function.py:1349\u001b[0m, in \u001b[0;36mConcreteFunction._call_flat\u001b[1;34m(self, args, captured_inputs)\u001b[0m\n\u001b[0;32m   1345\u001b[0m possible_gradient_type \u001b[39m=\u001b[39m gradients_util\u001b[39m.\u001b[39mPossibleTapeGradientTypes(args)\n\u001b[0;32m   1346\u001b[0m \u001b[39mif\u001b[39;00m (possible_gradient_type \u001b[39m==\u001b[39m gradients_util\u001b[39m.\u001b[39mPOSSIBLE_GRADIENT_TYPES_NONE\n\u001b[0;32m   1347\u001b[0m     \u001b[39mand\u001b[39;00m executing_eagerly):\n\u001b[0;32m   1348\u001b[0m   \u001b[39m# No tape is watching; skip to running the function.\u001b[39;00m\n\u001b[1;32m-> 1349\u001b[0m   \u001b[39mreturn\u001b[39;00m \u001b[39mself\u001b[39m\u001b[39m.\u001b[39m_build_call_outputs(\u001b[39mself\u001b[39;49m\u001b[39m.\u001b[39;49m_inference_function(\u001b[39m*\u001b[39;49margs))\n\u001b[0;32m   1350\u001b[0m forward_backward \u001b[39m=\u001b[39m \u001b[39mself\u001b[39m\u001b[39m.\u001b[39m_select_forward_and_backward_functions(\n\u001b[0;32m   1351\u001b[0m     args,\n\u001b[0;32m   1352\u001b[0m     possible_gradient_type,\n\u001b[0;32m   1353\u001b[0m     executing_eagerly)\n\u001b[0;32m   1354\u001b[0m forward_function, args_with_tangents \u001b[39m=\u001b[39m forward_backward\u001b[39m.\u001b[39mforward()\n",
      "File \u001b[1;32md:\\OCR\\okernel\\lib\\site-packages\\tensorflow\\python\\eager\\polymorphic_function\\atomic_function.py:196\u001b[0m, in \u001b[0;36mAtomicFunction.__call__\u001b[1;34m(self, *args)\u001b[0m\n\u001b[0;32m    194\u001b[0m \u001b[39mwith\u001b[39;00m record\u001b[39m.\u001b[39mstop_recording():\n\u001b[0;32m    195\u001b[0m   \u001b[39mif\u001b[39;00m \u001b[39mself\u001b[39m\u001b[39m.\u001b[39m_bound_context\u001b[39m.\u001b[39mexecuting_eagerly():\n\u001b[1;32m--> 196\u001b[0m     outputs \u001b[39m=\u001b[39m \u001b[39mself\u001b[39;49m\u001b[39m.\u001b[39;49m_bound_context\u001b[39m.\u001b[39;49mcall_function(\n\u001b[0;32m    197\u001b[0m         \u001b[39mself\u001b[39;49m\u001b[39m.\u001b[39;49mname,\n\u001b[0;32m    198\u001b[0m         \u001b[39mlist\u001b[39;49m(args),\n\u001b[0;32m    199\u001b[0m         \u001b[39mlen\u001b[39;49m(\u001b[39mself\u001b[39;49m\u001b[39m.\u001b[39;49mfunction_type\u001b[39m.\u001b[39;49mflat_outputs),\n\u001b[0;32m    200\u001b[0m     )\n\u001b[0;32m    201\u001b[0m   \u001b[39melse\u001b[39;00m:\n\u001b[0;32m    202\u001b[0m     outputs \u001b[39m=\u001b[39m make_call_op_in_graph(\u001b[39mself\u001b[39m, \u001b[39mlist\u001b[39m(args))\n",
      "File \u001b[1;32md:\\OCR\\okernel\\lib\\site-packages\\tensorflow\\python\\eager\\context.py:1457\u001b[0m, in \u001b[0;36mContext.call_function\u001b[1;34m(self, name, tensor_inputs, num_outputs)\u001b[0m\n\u001b[0;32m   1455\u001b[0m cancellation_context \u001b[39m=\u001b[39m cancellation\u001b[39m.\u001b[39mcontext()\n\u001b[0;32m   1456\u001b[0m \u001b[39mif\u001b[39;00m cancellation_context \u001b[39mis\u001b[39;00m \u001b[39mNone\u001b[39;00m:\n\u001b[1;32m-> 1457\u001b[0m   outputs \u001b[39m=\u001b[39m execute\u001b[39m.\u001b[39;49mexecute(\n\u001b[0;32m   1458\u001b[0m       name\u001b[39m.\u001b[39;49mdecode(\u001b[39m\"\u001b[39;49m\u001b[39mutf-8\u001b[39;49m\u001b[39m\"\u001b[39;49m),\n\u001b[0;32m   1459\u001b[0m       num_outputs\u001b[39m=\u001b[39;49mnum_outputs,\n\u001b[0;32m   1460\u001b[0m       inputs\u001b[39m=\u001b[39;49mtensor_inputs,\n\u001b[0;32m   1461\u001b[0m       attrs\u001b[39m=\u001b[39;49mattrs,\n\u001b[0;32m   1462\u001b[0m       ctx\u001b[39m=\u001b[39;49m\u001b[39mself\u001b[39;49m,\n\u001b[0;32m   1463\u001b[0m   )\n\u001b[0;32m   1464\u001b[0m \u001b[39melse\u001b[39;00m:\n\u001b[0;32m   1465\u001b[0m   outputs \u001b[39m=\u001b[39m execute\u001b[39m.\u001b[39mexecute_with_cancellation(\n\u001b[0;32m   1466\u001b[0m       name\u001b[39m.\u001b[39mdecode(\u001b[39m\"\u001b[39m\u001b[39mutf-8\u001b[39m\u001b[39m\"\u001b[39m),\n\u001b[0;32m   1467\u001b[0m       num_outputs\u001b[39m=\u001b[39mnum_outputs,\n\u001b[1;32m   (...)\u001b[0m\n\u001b[0;32m   1471\u001b[0m       cancellation_manager\u001b[39m=\u001b[39mcancellation_context,\n\u001b[0;32m   1472\u001b[0m   )\n",
      "File \u001b[1;32md:\\OCR\\okernel\\lib\\site-packages\\tensorflow\\python\\eager\\execute.py:53\u001b[0m, in \u001b[0;36mquick_execute\u001b[1;34m(op_name, num_outputs, inputs, attrs, ctx, name)\u001b[0m\n\u001b[0;32m     51\u001b[0m \u001b[39mtry\u001b[39;00m:\n\u001b[0;32m     52\u001b[0m   ctx\u001b[39m.\u001b[39mensure_initialized()\n\u001b[1;32m---> 53\u001b[0m   tensors \u001b[39m=\u001b[39m pywrap_tfe\u001b[39m.\u001b[39;49mTFE_Py_Execute(ctx\u001b[39m.\u001b[39;49m_handle, device_name, op_name,\n\u001b[0;32m     54\u001b[0m                                       inputs, attrs, num_outputs)\n\u001b[0;32m     55\u001b[0m \u001b[39mexcept\u001b[39;00m core\u001b[39m.\u001b[39m_NotOkStatusException \u001b[39mas\u001b[39;00m e:\n\u001b[0;32m     56\u001b[0m   \u001b[39mif\u001b[39;00m name \u001b[39mis\u001b[39;00m \u001b[39mnot\u001b[39;00m \u001b[39mNone\u001b[39;00m:\n",
      "\u001b[1;31mKeyboardInterrupt\u001b[0m: "
     ]
    }
   ],
   "source": [
    "# Train the model\n",
    "history=model.fit([x_train, x_train, x_train], y_train, epochs=100, batch_size=2, validation_split=0.2)\n",
    "\n",
    "# Plot the training loss\n",
    "plt.plot(history.history['loss'], label='Training Loss')\n",
    "plt.plot(history.history['val_loss'], label='Validation Loss')\n",
    "plt.title('Training and Validation Loss')\n",
    "plt.xlabel('Epoch')\n",
    "plt.ylabel('Loss')\n",
    "plt.legend()\n",
    "plt.show() \n",
    "\n"
   ]
  },
  {
   "cell_type": "code",
   "execution_count": 62,
   "metadata": {},
   "outputs": [],
   "source": [
    "# X_train_reshaped = x_train.reshape(-1, 22000)\n",
    "# X_val_reshaped = x_cv.reshape(-1, 22000)\n",
    "# X_test_reshaped = x_test.reshape(-1, 22000)\n",
    "\n",
    "# # Initialize MinMaxScaler\n",
    "# scaler = MinMaxScaler()\n",
    "\n",
    "# # Fit scaler on training data and transform training, validation, and test data\n",
    "# X_train_normalized = scaler.fit_transform(X_train_reshaped)\n",
    "# X_val_normalized = scaler.transform(X_val_reshaped)\n",
    "# X_test_normalized = scaler.transform(X_test_reshaped)\n",
    "\n",
    "# # Reshape normalized data back to the original shape\n",
    "# x_train_normalized = X_train_normalized.reshape(-1, 22000, 1)\n",
    "# x_val_normalized = X_val_normalized.reshape(-1, 22000, 1)\n",
    "# x_test_normalized = X_test_normalized.reshape(-1, 22000, 1)"
   ]
  }
 ],
 "metadata": {
  "kernelspec": {
   "display_name": "okernel",
   "language": "python",
   "name": "okernel"
  },
  "language_info": {
   "codemirror_mode": {
    "name": "ipython",
    "version": 3
   },
   "file_extension": ".py",
   "mimetype": "text/x-python",
   "name": "python",
   "nbconvert_exporter": "python",
   "pygments_lexer": "ipython3",
   "version": "3.8.0"
  },
  "orig_nbformat": 4
 },
 "nbformat": 4,
 "nbformat_minor": 2
}
